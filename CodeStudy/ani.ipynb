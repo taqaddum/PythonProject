{
 "cells": [
  {
   "cell_type": "code",
   "execution_count": 1,
   "metadata": {},
   "outputs": [],
   "source": [
    "import numpy as np\n",
    "import matplotlib.pyplot as plt\n",
    "from matplotlib.animation import FuncAnimation\n",
    "import bisect as bis\n",
    "%matplotlib inline"
   ]
  },
  {
   "cell_type": "code",
   "execution_count": 5,
   "metadata": {},
   "outputs": [],
   "source": [
    "arr = [1, 22, 3, 4]\n",
    "bis.insort(arr, 6)"
   ]
  },
  {
   "cell_type": "code",
   "execution_count": 13,
   "metadata": {},
   "outputs": [
    {
     "data": {
      "text/plain": [
       "[]"
      ]
     },
     "execution_count": 13,
     "metadata": {},
     "output_type": "execute_result"
    }
   ],
   "source": [
    "d = dict(zip([\"a\", \"b\", \"c\"], [1, 2, 3]))\n",
    "d.setdefault(\"d\", [])"
   ]
  },
  {
   "cell_type": "code",
   "execution_count": 17,
   "metadata": {},
   "outputs": [
    {
     "name": "stdout",
     "output_type": "stream",
     "text": [
      "2\n",
      "3\n",
      "4\n"
     ]
    }
   ],
   "source": [
    "def func(*b, a=1):\n",
    "    for x in b:\n",
    "        print(x)\n",
    "func(2, 3, 4)"
   ]
  },
  {
   "cell_type": "code",
   "execution_count": 9,
   "metadata": {},
   "outputs": [],
   "source": [
    "plt.rcParams[\"font.sans-serif\"]=\"SimHei\"\n",
    "plt.rcParams[\"axes.unicode_minus\"]=False"
   ]
  },
  {
   "cell_type": "code",
   "execution_count": 36,
   "metadata": {},
   "outputs": [
    {
     "data": {
      "text/plain": [
       "(array([[ True,  True,  True],\n",
       "        [ True,  True,  True],\n",
       "        [ True,  True,  True],\n",
       "        [ True,  True,  True],\n",
       "        [ True,  True,  True],\n",
       "        [ True,  True,  True],\n",
       "        [ True,  True,  True],\n",
       "        [ True,  True,  True],\n",
       "        [ True,  True,  True],\n",
       "        [ True,  True,  True],\n",
       "        [ True,  True,  True],\n",
       "        [ True,  True,  True],\n",
       "        [ True,  True,  True],\n",
       "        [ True,  True,  True],\n",
       "        [ True,  True,  True],\n",
       "        [ True,  True,  True],\n",
       "        [ True,  True,  True],\n",
       "        [ True,  True,  True],\n",
       "        [ True,  True,  True],\n",
       "        [ True,  True,  True]]),\n",
       " array([ 0,  1,  2,  3,  4,  5,  6,  7,  8,  9, 10, 11, 12, 13, 14, 15, 16,\n",
       "        17, 18, 19]))"
      ]
     },
     "execution_count": 36,
     "metadata": {},
     "output_type": "execute_result"
    }
   ],
   "source": [
    "a = np.arange(20)\n",
    "b = np.repeat(a, 3).reshape(-1, 3)\n",
    "c = np.array([1, 2, 3])\n",
    "b - c == a[:, None] - c, a.squeeze()"
   ]
  },
  {
   "cell_type": "code",
   "execution_count": 25,
   "metadata": {},
   "outputs": [
    {
     "data": {
      "image/png": "[encoded data removed]",
      "text/plain": [
       "<Figure size 720x480 with 2 Axes>"
      ]
     },
     "metadata": {
      "needs_background": "light"
     },
     "output_type": "display_data"
    }
   ],
   "source": [
    "x = np.eye(10).reshape(1, 1, 10, 10)\n",
    "fig, axes = plt.subplots(x.shape[0], x.shape[1], sharex=True, sharey=True, squeeze=False, dpi=120)\n",
    "for im_row, ax_row in zip(x, axes):\n",
    "    for im, ax in zip(im_row, ax_row):\n",
    "        pcm = ax.imshow(im, cmap=\"Reds\")\n",
    "        ax.set_axis_off()\n",
    "fig.colorbar(mappable=pcm, ax=ax, shrink=0.8)\n",
    "fig.supxlabel(\"x轴\", y=0.05)\n",
    "fig.supylabel(\"y轴\", x=0.2)\n",
    "plt.show()"
   ]
  },
  {
   "cell_type": "markdown",
   "metadata": {},
   "source": [
    "# 定义画布\n",
    "fig= plt.figure()\n",
    "line, = plt.plot([], [])  # 返回的第一个值是update函数需要改变的\n",
    "# 获取直线的数组\n",
    "def line_space(B):\n",
    "    x = np.linspace(0, 10, 100)\n",
    "    return x, x + B\n",
    "\n",
    "# 这里B就是frame\n",
    "def update(B):\n",
    "    plt.xlim(0, 10)\n",
    "    plt.ylim(0, 20)\n",
    "    x, y = line_space(B)\n",
    "    line.set_data(x, y)\n",
    "    return line\n",
    "\n",
    "# 使用函数并保存保存会在下一篇文章讲\n",
    "# 可以用plt.show()来代替一下\n",
    "ani = FuncAnimation(fig, update, frames=np.linspace(0, 10, 100), interval=50)"
   ]
  },
  {
   "cell_type": "code",
   "execution_count": 2,
   "metadata": {},
   "outputs": [],
   "source": [
    "def simple_plot():\n",
    "    \"\"\"\n",
    "    simple plot\n",
    "    \"\"\"\n",
    "    # 生成画布\n",
    "    plt.figure(figsize=(8, 6), dpi=80)\n",
    "\n",
    "    # 打开交互模式\n",
    "    plt.ion()\n",
    "\n",
    "    # 循环\n",
    "    for index in range(100):\n",
    "        # 清除原有图像\n",
    "        plt.cla()\n",
    "\n",
    "        # 设定标题等\n",
    "        plt.title(\"动态曲线图\")\n",
    "        plt.grid(True)\n",
    "\n",
    "        # 生成测试数据\n",
    "        x = np.linspace(-np.pi + 0.1*index, np.pi+0.1*index, 256, endpoint=True)\n",
    "        y_cos, y_sin = np.cos(x), np.sin(x)\n",
    "\n",
    "        # 设置X轴\n",
    "        plt.xlabel(\"X轴\")\n",
    "        plt.xlim(-4 + 0.1*index, 4 + 0.1*index)\n",
    "        plt.xticks(np.linspace(-4 + 0.1*index, 4+0.1*index, 9, endpoint=True))\n",
    "\n",
    "        # 设置Y轴\n",
    "        plt.ylabel(\"Y轴\")\n",
    "        plt.ylim(-1.0, 1.0)\n",
    "        plt.yticks(np.linspace(-1, 1, 9, endpoint=True))\n",
    "\n",
    "        # 画两条曲线\n",
    "        plt.plot(x, y_cos, \"b--\", linewidth=2.0, label=\"cos示例\")\n",
    "        plt.plot(x, y_sin, \"g-\", linewidth=2.0, label=\"sin示例\")\n",
    "\n",
    "        # 设置图例位置,loc可以为[upper, lower, left, right, center]\n",
    "        plt.legend(loc=\"upper left\", shadow=True)\n",
    "\n",
    "        # 暂停\n",
    "        plt.pause(0.1)\n",
    "\n",
    "    # 关闭交互模式\n",
    "    plt.ioff()"
   ]
  },
  {
   "cell_type": "code",
   "execution_count": 3,
   "metadata": {},
   "outputs": [
    {
     "name": "stdout",
     "output_type": "stream",
     "text": [
      "over\n"
     ]
    }
   ],
   "source": [
    "plt.rcParams[\"font.sans-serif\"] = \"SimHei\"\n",
    "plt.rcParams[\"axes.unicode_minus\"] = False\n",
    "simple_plot()\n",
    "print(\"over\")"
   ]
  }
 ],
 "metadata": {
  "interpreter": {
   "hash": "37b255bb5dc0d995b91bd1b934b878e610a26475f52eafaf29fdb395fb105534"
  },
  "kernelspec": {
   "display_name": "Python 3.8.12 64-bit ('base': conda)",
   "name": "python3"
  },
  "language_info": {
   "codemirror_mode": {
    "name": "ipython",
    "version": 3
   },
   "file_extension": ".py",
   "mimetype": "text/x-python",
   "name": "python",
   "nbconvert_exporter": "python",
   "pygments_lexer": "ipython3",
   "version": "3.8.12"
  },
  "orig_nbformat": 4
 },
 "nbformat": 4,
 "nbformat_minor": 2
}
