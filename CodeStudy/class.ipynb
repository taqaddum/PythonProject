{
 "cells": [
  {
   "cell_type": "code",
   "execution_count": 1,
   "metadata": {},
   "outputs": [],
   "source": [
    "import pandas as pd\n",
    "import numpy as np\n",
    "import datetime\n",
    "import re\n",
    "import sys\n",
    "from collections import OrderedDict\n",
    "import re"
   ]
  },
  {
   "cell_type": "code",
   "execution_count": 2,
   "metadata": {},
   "outputs": [],
   "source": [
    "w, h=416, 416\n",
    "iw, ih=500, 600\n",
    "scale = min(w/iw, h/ih)\n",
    "nw = int(iw*scale)\n",
    "nh = int(ih*scale)\n",
    "dx = (w-nw)//2\n",
    "dy = (h-nh)//2"
   ]
  },
  {
   "cell_type": "code",
   "execution_count": 5,
   "metadata": {},
   "outputs": [],
   "source": [
    "x = np.random.randn(100, 100, 20)\n",
    "y1 = x.mean()\n",
    "y2 = x.mean(axis=1)\n",
    "y3 = x.mean(axis=2)\n",
    "arr1 = [y1, y2, y3]"
   ]
  },
  {
   "cell_type": "code",
   "execution_count": 4,
   "metadata": {},
   "outputs": [],
   "source": [
    "a = np.random.rand(100, 100, 20)\n",
    "arr2 = [a.mean(), a.mean(axis=1), a.mean(axis=2)]"
   ]
  },
  {
   "cell_type": "code",
   "execution_count": 3,
   "metadata": {},
   "outputs": [
    {
     "data": {
      "text/plain": [
       "collections.OrderedDict"
      ]
     },
     "execution_count": 3,
     "metadata": {},
     "output_type": "execute_result"
    }
   ],
   "source": [
    "type(OrderedDict([(\"cbl\", 1)]))"
   ]
  },
  {
   "cell_type": "code",
   "execution_count": 6,
   "metadata": {},
   "outputs": [
    {
     "name": "stdout",
     "output_type": "stream",
     "text": [
      "184 184 56 72\n"
     ]
    }
   ],
   "source": [
    "x1 = list()\n",
    "x2 = [1, 0]\n",
    "x = [None for _ in range(10)]\n",
    "y = [0 for _ in range(10)]\n",
    "print(sys.getsizeof(x), sys.getsizeof(y), sys.getsizeof(x1), sys.getsizeof(x2))"
   ]
  },
  {
   "cell_type": "code",
   "execution_count": 3,
   "metadata": {},
   "outputs": [],
   "source": [
    "x = list()\n",
    "x.insert(2, \"a\")\n",
    "x.insert(4, \"b\")"
   ]
  },
  {
   "cell_type": "code",
   "execution_count": 1,
   "metadata": {},
   "outputs": [],
   "source": [
    "a = {\"a\":[1, 2, 3, 4]}"
   ]
  },
  {
   "cell_type": "code",
   "execution_count": 2,
   "metadata": {},
   "outputs": [
    {
     "data": {
      "text/plain": [
       "[1, 2, 3, 4]"
      ]
     },
     "execution_count": 2,
     "metadata": {},
     "output_type": "execute_result"
    }
   ],
   "source": [
    "a[\"a\"]"
   ]
  },
  {
   "cell_type": "code",
   "execution_count": 1,
   "metadata": {},
   "outputs": [],
   "source": [
    "class Func:\n",
    "    def __init__(self):\n",
    "        print(\"正在运行\")\n",
    "    def start(self, x):\n",
    "        self.x = x**2"
   ]
  },
  {
   "cell_type": "code",
   "execution_count": null,
   "metadata": {},
   "outputs": [],
   "source": [
    "f = Func()\n",
    "f.start(3)\n",
    "f.x"
   ]
  },
  {
   "cell_type": "code",
   "execution_count": null,
   "metadata": {},
   "outputs": [],
   "source": [
    "a = pd.Series([1, 2, 3, 4, 5])\n",
    "a.values"
   ]
  },
  {
   "cell_type": "code",
   "execution_count": null,
   "metadata": {},
   "outputs": [],
   "source": [
    "str = \"abcdef\"\n",
    "print(f\"{str:3.2s}\")"
   ]
  },
  {
   "cell_type": "code",
   "execution_count": null,
   "metadata": {},
   "outputs": [],
   "source": [
    "dic = dict(a=1, b=2, c=3, d=4)\n",
    "dic.values()"
   ]
  },
  {
   "cell_type": "code",
   "execution_count": null,
   "metadata": {},
   "outputs": [],
   "source": [
    "str = \"www.h?o&me|www.c?&om\"\n",
    "pattern = r\"[?&]\"\n",
    "re.split(pattern, str)"
   ]
  },
  {
   "cell_type": "code",
   "execution_count": 7,
   "metadata": {},
   "outputs": [],
   "source": [
    "class A:\n",
    "    e = 1\n",
    "    _f = 2\n",
    "    def __init__(self):\n",
    "        self.__a = 100\n",
    "        self.b = 10\n",
    "        self.c = 20\n",
    "    def forward(self):\n",
    "        self.d = 30"
   ]
  },
  {
   "cell_type": "code",
   "execution_count": 4,
   "metadata": {},
   "outputs": [
    {
     "data": {
      "text/plain": [
       "mappingproxy({'__module__': '__main__',\n",
       "              'e': 1,\n",
       "              '_A__f': 2,\n",
       "              '__init__': <function __main__.A.__init__(self)>,\n",
       "              'forward': <function __main__.A.forward(self)>,\n",
       "              '__dict__': <attribute '__dict__' of 'A' objects>,\n",
       "              '__weakref__': <attribute '__weakref__' of 'A' objects>,\n",
       "              '__doc__': None})"
      ]
     },
     "execution_count": 4,
     "metadata": {},
     "output_type": "execute_result"
    }
   ],
   "source": [
    "A.__dict__"
   ]
  },
  {
   "cell_type": "code",
   "execution_count": 9,
   "metadata": {},
   "outputs": [
    {
     "data": {
      "text/plain": [
       "({'_A__a': 100, 'b': 10, 'c': 20, 'd': 30}, 1, 2)"
      ]
     },
     "execution_count": 9,
     "metadata": {},
     "output_type": "execute_result"
    }
   ],
   "source": [
    "a = A()\n",
    "a.forward()\n",
    "a.__dict__, a.e, a._f"
   ]
  },
  {
   "cell_type": "markdown",
   "metadata": {},
   "source": [
    "父类和子类的对象，__dict__属性并不是公用的，子类继承父类的实例属性会在其__dict__中，但父类的就只是父类本身的"
   ]
  }
 ],
 "metadata": {
  "interpreter": {
   "hash": "37b255bb5dc0d995b91bd1b934b878e610a26475f52eafaf29fdb395fb105534"
  },
  "kernelspec": {
   "display_name": "Python 3.8.12 64-bit ('base': conda)",
   "name": "python3"
  },
  "language_info": {
   "codemirror_mode": {
    "name": "ipython",
    "version": 3
   },
   "file_extension": ".py",
   "mimetype": "text/x-python",
   "name": "python",
   "nbconvert_exporter": "python",
   "pygments_lexer": "ipython3",
   "version": "3.8.12"
  },
  "orig_nbformat": 4
 },
 "nbformat": 4,
 "nbformat_minor": 2
}
