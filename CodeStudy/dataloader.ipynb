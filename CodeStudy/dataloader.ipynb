{
 "cells": [
  {
   "cell_type": "code",
   "execution_count": 1,
   "metadata": {},
   "outputs": [],
   "source": [
    "import torch\n",
    "from torch.utils import data"
   ]
  },
  {
   "cell_type": "code",
   "execution_count": 4,
   "metadata": {},
   "outputs": [
    {
     "name": "stdout",
     "output_type": "stream",
     "text": [
      "(tensor([-0.5651,  0.8501, -0.4886, -0.3757]), tensor(0))\n",
      "(tensor([-0.1317,  0.3896, -1.9172, -0.2408]), tensor(1))\n",
      "(tensor([ 0.2475, -2.1079,  0.3290,  1.7148]), tensor(2))\n",
      "(tensor([-1.0254, -1.0775,  0.7546, -0.1582]), tensor(3))\n",
      "(tensor([ 0.0376, -1.5754,  0.3051, -0.6058]), tensor(4))\n"
     ]
    }
   ],
   "source": [
    "x = torch.randn(5, 4)\n",
    "y = torch.arange(5)\n",
    "dataset = data.TensorDataset(x, y)\n",
    "for a in dataset:\n",
    "    print(a)"
   ]
  },
  {
   "cell_type": "code",
   "execution_count": 7,
   "metadata": {},
   "outputs": [
    {
     "name": "stdout",
     "output_type": "stream",
     "text": [
      "tensor([[ 0.2475, -2.1079,  0.3290,  1.7148],\n",
      "        [ 0.0376, -1.5754,  0.3051, -0.6058]])\n",
      "tensor([2, 4])\n",
      "tensor([[-0.1317,  0.3896, -1.9172, -0.2408],\n",
      "        [-1.0254, -1.0775,  0.7546, -0.1582]])\n",
      "tensor([1, 3])\n",
      "tensor([[-0.5651,  0.8501, -0.4886, -0.3757]])\n",
      "tensor([0])\n"
     ]
    }
   ],
   "source": [
    "batch = data.DataLoader(dataset, batch_size=2, shuffle=True)\n",
    "for value, label in batch:\n",
    "    print(value)\n",
    "    print(label)"
   ]
  }
 ],
 "metadata": {
  "kernelspec": {
   "display_name": "Python 3.8.13 ('pytorch')",
   "language": "python",
   "name": "python3"
  },
  "language_info": {
   "codemirror_mode": {
    "name": "ipython",
    "version": 3
   },
   "file_extension": ".py",
   "mimetype": "text/x-python",
   "name": "python",
   "nbconvert_exporter": "python",
   "pygments_lexer": "ipython3",
   "version": "3.8.13"
  },
  "orig_nbformat": 4,
  "vscode": {
   "interpreter": {
    "hash": "9cf8428aa180ee23632ed7df20f7a595edda7c60e668686876baf89d702ea1cf"
   }
  }
 },
 "nbformat": 4,
 "nbformat_minor": 2
}
