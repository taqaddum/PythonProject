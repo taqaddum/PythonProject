{
 "cells": [
  {
   "cell_type": "code",
   "execution_count": 1,
   "metadata": {},
   "outputs": [],
   "source": [
    "import pathlib\n",
    "import numpy as np\n",
    "from pathlib import PureWindowsPath\n",
    "from pathlib import Path\n",
    "from PIL import Image"
   ]
  },
  {
   "cell_type": "code",
   "execution_count": 4,
   "metadata": {},
   "outputs": [],
   "source": [
    "img = Image.open(\"./koebel.jpg\")\n",
    "img1 = img.crop([0, 0, 300, 800])  # 窗口多余部分以黑边填充\n",
    "img1.show()"
   ]
  },
  {
   "cell_type": "code",
   "execution_count": null,
   "metadata": {},
   "outputs": [],
   "source": [
    "img = img.convert(\"RGBA\")\n",
    "x = np.array(img)\n",
    "x.transpose(2, 0, 1)"
   ]
  },
  {
   "cell_type": "code",
   "execution_count": 3,
   "metadata": {},
   "outputs": [
    {
     "data": {
      "text/plain": [
       "(WindowsPath('C:/Users/jhZou'),\n",
       " WindowsPath('d:/WorkSpace/PythonProject/CodeStudy'))"
      ]
     },
     "execution_count": 3,
     "metadata": {},
     "output_type": "execute_result"
    }
   ],
   "source": [
    "pathlib.Path.home(), pathlib.Path.cwd()"
   ]
  },
  {
   "cell_type": "code",
   "execution_count": 4,
   "metadata": {},
   "outputs": [
    {
     "data": {
      "text/plain": [
       "[WindowsPath('D:/WorkSpace/PythonProject/DeepLearning/AlexNet.html'),\n",
       " WindowsPath('D:/WorkSpace/PythonProject/DeepLearning/AlexNet.ipynb'),\n",
       " WindowsPath('D:/WorkSpace/PythonProject/DeepLearning/alexnet.svg'),\n",
       " WindowsPath('D:/WorkSpace/PythonProject/DeepLearning/convolution.ipynb'),\n",
       " WindowsPath('D:/WorkSpace/PythonProject/DeepLearning/data'),\n",
       " WindowsPath('D:/WorkSpace/PythonProject/DeepLearning/densenet.ipynb'),\n",
       " WindowsPath('D:/WorkSpace/PythonProject/DeepLearning/fashion.ipynb'),\n",
       " WindowsPath('D:/WorkSpace/PythonProject/DeepLearning/googLeNet.ipynb'),\n",
       " WindowsPath('D:/WorkSpace/PythonProject/DeepLearning/iou.ipynb'),\n",
       " WindowsPath('D:/WorkSpace/PythonProject/DeepLearning/LeNet.ipynb'),\n",
       " WindowsPath('D:/WorkSpace/PythonProject/DeepLearning/linearRegression.ipynb'),\n",
       " WindowsPath('D:/WorkSpace/PythonProject/DeepLearning/mlp.ipynb'),\n",
       " WindowsPath('D:/WorkSpace/PythonProject/DeepLearning/mySequential.ipynb'),\n",
       " WindowsPath('D:/WorkSpace/PythonProject/DeepLearning/Resnet.ipynb'),\n",
       " WindowsPath('D:/WorkSpace/PythonProject/DeepLearning/softmaxRegression.ipynb'),\n",
       " WindowsPath('D:/WorkSpace/PythonProject/DeepLearning/ssd.ipynb'),\n",
       " WindowsPath('D:/WorkSpace/PythonProject/DeepLearning/vggnet.ipynb')]"
      ]
     },
     "execution_count": 4,
     "metadata": {},
     "output_type": "execute_result"
    }
   ],
   "source": [
    "p = pathlib.Path('..') # 等价于\"../\"\"\n",
    "list(p.rglob(\"*.ipynb\")) # 返回生成器\n",
    "p.exists()\n",
    "PureWindowsPath(\"D:\\WorkSpace\\PythonProject\\DeepLearning\").suffix\n",
    "p1 = pathlib.Path(\"D:\\WorkSpace\\PythonProject\\DeepLearning\")\n",
    "list(p1.iterdir()) # iterdir()只扫描当前目录下的路径，不会递归子目录"
   ]
  },
  {
   "cell_type": "code",
   "execution_count": 14,
   "metadata": {},
   "outputs": [
    {
     "data": {
      "text/plain": [
       "'.py'"
      ]
     },
     "execution_count": 14,
     "metadata": {},
     "output_type": "execute_result"
    }
   ],
   "source": [
    "file = pathlib.Path(\"./abc/a.py\") # cwd获取当前打开文件的绝对路径，Path中的路径不影响返回值\n",
    "file.suffix"
   ]
  },
  {
   "cell_type": "code",
   "execution_count": 6,
   "metadata": {},
   "outputs": [
    {
     "data": {
      "text/plain": [
       "PureWindowsPath('data/mlp.ipynb')"
      ]
     },
     "execution_count": 6,
     "metadata": {},
     "output_type": "execute_result"
    }
   ],
   "source": [
    "PureWindowsPath(\"D:\\WorkSpace\\PythonProject\\DeepLearning\\mlp.ipynb\").parts\n",
    "PureWindowsPath(\"D:\\WorkSpace\\PythonProject\\DeepLearning\\mlp.ipynb\").name\n",
    "list(PureWindowsPath(\"D:\\WorkSpace\\PythonProject\\DeepLearning\\mlp.ipynb\").parents)\n",
    "PureWindowsPath(\"D:\\WorkSpace\\PythonProject\\DeepLearning\\mlp.ipynb\").suffix\n",
    "PureWindowsPath(\"D:\\WorkSpace\\PythonProject\\DeepLearning\\mlp.ipynb\").as_uri()\n",
    "PureWindowsPath(\"D:\\WorkSpace\\PythonProject\\DeepLearning\\mlp.ipynb\").is_absolute()\n",
    "PureWindowsPath(\"D:\\WorkSpace\\PythonProject\\DeepLearning\\mlp.ipynb\").joinpath(\"study\")\n",
    "PureWindowsPath(\"data\\MLP.ipynb\").with_name(\"mlp.ipynb\")"
   ]
  },
  {
   "cell_type": "code",
   "execution_count": 13,
   "metadata": {},
   "outputs": [],
   "source": [
    "def end_zeros(number):    \n",
    "    result = not number\n",
    "    while number and not number % 10:\n",
    "        number //= 10\n",
    "        result += 1\n",
    "    return result"
   ]
  },
  {
   "cell_type": "code",
   "execution_count": 10,
   "metadata": {},
   "outputs": [
    {
     "name": "stdout",
     "output_type": "stream",
     "text": [
      "<class '_io.TextIOWrapper'>\n"
     ]
    }
   ],
   "source": [
    "with open(\"video.py\", \"r+\") as file:\n",
    "    print(type(file))"
   ]
  },
  {
   "cell_type": "code",
   "execution_count": 17,
   "metadata": {},
   "outputs": [
    {
     "data": {
      "text/plain": [
       "WindowsPath('abc/v.py')"
      ]
     },
     "execution_count": 17,
     "metadata": {},
     "output_type": "execute_result"
    }
   ],
   "source": [
    "path = Path(\"abc/video.py\")\n",
    "path.with_name(\"v.py\")"
   ]
  },
  {
   "cell_type": "code",
   "execution_count": 1,
   "metadata": {},
   "outputs": [],
   "source": [
    "a = ([1, 2, 3])"
   ]
  }
 ],
 "metadata": {
  "interpreter": {
   "hash": "37b255bb5dc0d995b91bd1b934b878e610a26475f52eafaf29fdb395fb105534"
  },
  "kernelspec": {
   "display_name": "Python 3.8.12 64-bit ('base': conda)",
   "name": "python3"
  },
  "language_info": {
   "codemirror_mode": {
    "name": "ipython",
    "version": 3
   },
   "file_extension": ".py",
   "mimetype": "text/x-python",
   "name": "python",
   "nbconvert_exporter": "python",
   "pygments_lexer": "ipython3",
   "version": "3.8.13"
  },
  "orig_nbformat": 4
 },
 "nbformat": 4,
 "nbformat_minor": 2
}
