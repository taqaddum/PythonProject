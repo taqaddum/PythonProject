{
 "cells": [
  {
   "cell_type": "code",
   "execution_count": 1,
   "metadata": {},
   "outputs": [],
   "source": [
    "from selenium.webdriver import Firefox"
   ]
  },
  {
   "cell_type": "code",
   "execution_count": 2,
   "metadata": {},
   "outputs": [],
   "source": [
    "web = Firefox()\n",
    "web.get('https://image.baidu.com/search/detail?ct=503316480&z=&tn=baiduimagedetail&ipn=d&word=%E6%BB%91%E5%9D%A1&step_word=&ie=utf-8&in=&cl=2&lm=-1&st=-1&hd=undefined&latest=undefined&copyright=undefined&cs=3768377431,3588223298&os=238332037,1704515821&simid=3768377431,3588223298&pn=2&rn=1&di=7060663421280190465&ln=1832&fr=&fmq=1647161761979_R&fm=index&ic=0&s=undefined&se=&sme=&tab=0&width=&height=&face=undefined&is=0,0&istype=2&ist=&jit=&bdtype=0&spn=0&pi=0&gsm=0&objurl=https%3A%2F%2Fgimg2.baidu.com%2Fimage_search%2Fsrc%3Dhttp%253A%252F%252Fimg.mp.itc.cn%252Fupload%252F20170603%252F5dd1123b13d6494daf150ca195ee932c_th.jpg%26refer%3Dhttp%253A%252F%252Fimg.mp.itc.cn%26app%3D2002%26size%3Df9999%2C10000%26q%3Da80%26n%3D0%26g%3D0n%26fmt%3Dauto%3Fsec%3D1649753761%26t%3Da880e75a934396f88ede2b76dde2853c&rpstart=0&rpnum=0&adpicid=0&nojc=undefined')\n",
    "web.get('https://image.baidu.com/search/detail?ct=503316480&z=&tn=baiduimagedetail&ipn=d&word=%E6%BB%91%E5%9D%A1&step_word=&ie=utf-8&in=&cl=2&lm=-1&st=-1&hd=undefined&latest=undefined&copyright=undefined&cs=1628369083,1314813703&os=2950756818,2888878704&simid=3347038210,231935463&pn=3&rn=1&di=7060663421280190465&ln=1832&fr=&fmq=1647161761979_R&fm=index&ic=0&s=undefined&se=&sme=&tab=0&width=&height=&face=undefined&is=0,0&istype=2&ist=&jit=&bdtype=0&spn=0&pi=0&gsm=0&objurl=https%3A%2F%2Fgimg2.baidu.com%2Fimage_search%2Fsrc%3Dhttp%253A%252F%252Fwww.fhdjw.hn.cn%252Fuploads%252Fallimg%252F200714%252F14-200G4101319637.jpg%26refer%3Dhttp%253A%252F%252Fwww.fhdjw.hn.cn%26app%3D2002%26size%3Df9999%2C10000%26q%3Da80%26n%3D0%26g%3D0n%26fmt%3Dauto%3Fsec%3D1649753761%26t%3D855356b182645885252c819dcb1a6908&rpstart=0&rpnum=0&adpicid=0&nojc=undefined')"
   ]
  }
 ],
 "metadata": {
  "interpreter": {
   "hash": "37b255bb5dc0d995b91bd1b934b878e610a26475f52eafaf29fdb395fb105534"
  },
  "kernelspec": {
   "display_name": "Python 3.9.7 ('base')",
   "language": "python",
   "name": "python3"
  },
  "language_info": {
   "codemirror_mode": {
    "name": "ipython",
    "version": 3
   },
   "file_extension": ".py",
   "mimetype": "text/x-python",
   "name": "python",
   "nbconvert_exporter": "python",
   "pygments_lexer": "ipython3",
   "version": "3.9.7"
  },
  "orig_nbformat": 4
 },
 "nbformat": 4,
 "nbformat_minor": 2
}
