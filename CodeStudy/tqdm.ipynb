{
 "cells": [
  {
   "cell_type": "code",
   "execution_count": 2,
   "metadata": {},
   "outputs": [],
   "source": [
    "from tqdm import tqdm\n",
    "from xml.etree import ElementTree as ET\n",
    "import argparse\n",
    "import numpy as np\n",
    "import torch\n",
    "import pandas as pd\n",
    "import time\n",
    "import re"
   ]
  },
  {
   "cell_type": "code",
   "execution_count": null,
   "metadata": {},
   "outputs": [],
   "source": [
    "range()"
   ]
  },
  {
   "cell_type": "code",
   "execution_count": 10,
   "metadata": {},
   "outputs": [
    {
     "name": "stdout",
     "output_type": "stream",
     "text": [
      "olleh  dlrow\n"
     ]
    }
   ],
   "source": [
    "text = 'hello  world'\n",
    "if text != '':\n",
    "    pattern = r'\\s'\n",
    "    arr = re.split(pattern, text)\n",
    "    for i, val in enumerate(arr):\n",
    "        arr[i] = val[::-1]\n",
    "    outcome = ' '.join(arr)\n",
    "print(outcome)"
   ]
  },
  {
   "cell_type": "code",
   "execution_count": 5,
   "metadata": {},
   "outputs": [],
   "source": [
    "x = torch.Size([24, 3, 13, 13])\n",
    "input_width = 13\n",
    "input_height = 13\n",
    "batch_size = 24\n",
    "grid_x = torch.linspace(0, input_width - 1, input_width).repeat(input_height, 1).repeat((batch_size * 3), 1, 1).view(x).type(torch.FloatTensor)"
   ]
  },
  {
   "cell_type": "code",
   "execution_count": 7,
   "metadata": {},
   "outputs": [],
   "source": [
    "mershx = torch.linspace(0, 12, 13).repeat(3*24, 13, 1).reshape(x)"
   ]
  },
  {
   "cell_type": "code",
   "execution_count": 4,
   "metadata": {},
   "outputs": [
    {
     "data": {
      "text/plain": [
       "(3, 4)"
      ]
     },
     "execution_count": 4,
     "metadata": {},
     "output_type": "execute_result"
    }
   ],
   "source": [
    "arr = np.random.randn(3, 4, 5)\n",
    "arr[..., 0].shape\n"
   ]
  },
  {
   "cell_type": "code",
   "execution_count": 2,
   "metadata": {},
   "outputs": [
    {
     "data": {
      "text/plain": [
       "120"
      ]
     },
     "execution_count": 2,
     "metadata": {},
     "output_type": "execute_result"
    }
   ],
   "source": [
    "def func(a):\n",
    "    if a == 1:\n",
    "        return 1\n",
    "    else:\n",
    "        return func(a - 1) * a\n",
    "func(5)"
   ]
  },
  {
   "cell_type": "code",
   "execution_count": 16,
   "metadata": {},
   "outputs": [
    {
     "name": "stdout",
     "output_type": "stream",
     "text": [
      "2022_00\n",
      "<class 'int'>\n",
      "<class 'int'>\n"
     ]
    }
   ],
   "source": [
    "id = 0\n",
    "print(f\"2022_{id:02d}\")\n",
    "for i, j in enumerate([\"a\", \"b\"]):\n",
    "    print(type(i))\n"
   ]
  },
  {
   "cell_type": "code",
   "execution_count": 13,
   "metadata": {},
   "outputs": [],
   "source": [
    "with open(f\"./data_{id:02d}.txt\", \"wb\") as f:\n",
    "    f.write(\"abc\".encode(\"utf-8\"))"
   ]
  },
  {
   "cell_type": "code",
   "execution_count": 6,
   "metadata": {},
   "outputs": [
    {
     "name": "stdout",
     "output_type": "stream",
     "text": [
      "1653399367.2491105\n",
      "time.struct_time(tm_year=2022, tm_mon=5, tm_mday=24, tm_hour=21, tm_min=36, tm_sec=7, tm_wday=1, tm_yday=144, tm_isdst=0)\n",
      "time.struct_time(tm_year=2022, tm_mon=5, tm_mday=24, tm_hour=13, tm_min=36, tm_sec=7, tm_wday=1, tm_yday=144, tm_isdst=0)\n",
      "Tue May 24 21:36:07 2022\n",
      "Tue May 24 21:36:07 2022\n",
      "2022-05-24\n",
      "time.struct_time(tm_year=2021, tm_mon=3, tm_mday=4, tm_hour=0, tm_min=0, tm_sec=0, tm_wday=3, tm_yday=63, tm_isdst=-1)\n",
      "1653399367.0"
     ]
    }
   ],
   "source": [
    "a = time.time()\n",
    "b = time.localtime()\n",
    "c = time.gmtime()\n",
    "h = time.mktime(b)\n",
    "d = time.asctime()\n",
    "e = time.ctime()\n",
    "f = time.strftime(r\"%Y-%m-%d\")\n",
    "g = time.strptime(\"2021-3-4\", r\"%Y-%m-%d\")\n",
    "print(a, b, c, d, e, f, g, h, sep='\\n', end='')"
   ]
  },
  {
   "cell_type": "code",
   "execution_count": 7,
   "metadata": {},
   "outputs": [],
   "source": [
    "def days_diff(a, b):\n",
    "    # your code here\n",
    "    func = lambda year, month, day: time.strptime(f\"{year}-{month}-{day}\", r\"%Y-%m-%d\")\n",
    "    dist = time.mktime(func(*a)) - time.mktime(func(*b))\n",
    "    struct = time.gmtime(abs(dist))\n",
    "    return struct[2]\n"
   ]
  },
  {
   "cell_type": "code",
   "execution_count": 9,
   "metadata": {},
   "outputs": [
    {
     "data": {
      "text/plain": [
       "27"
      ]
     },
     "execution_count": 9,
     "metadata": {},
     "output_type": "execute_result"
    }
   ],
   "source": [
    "days_diff((2014, 1, 1), (2014, 8, 27))\n"
   ]
  },
  {
   "cell_type": "code",
   "execution_count": 11,
   "metadata": {},
   "outputs": [
    {
     "data": {
      "text/plain": [
       "['a', 'b', 'c']"
      ]
     },
     "execution_count": 11,
     "metadata": {},
     "output_type": "execute_result"
    }
   ],
   "source": [
    "list(\"abc\")"
   ]
  },
  {
   "cell_type": "code",
   "execution_count": 4,
   "metadata": {},
   "outputs": [
    {
     "name": "stdout",
     "output_type": "stream",
     "text": [
      "Example:\n",
      "[2, 3, 4, 1]\n"
     ]
    }
   ],
   "source": [
    "def replace_first(items: list):\n",
    "    # your code here\n",
    "    if items:\n",
    "        e = items.pop(0)\n",
    "        items.append(e)\n",
    "    return items\n",
    "\n",
    "\n",
    "if __name__ == \"__main__\":\n",
    "    print(\"Example:\")\n",
    "    print(list(replace_first([1, 2, 3, 4])))\n",
    "\n",
    "    # These \"asserts\" are used for self-checking and not for an auto-testing\n",
    "    assert list(replace_first([1, 2, 3, 4])) == [2, 3, 4, 1]\n",
    "    assert list(replace_first([1])) == [1]\n",
    "    assert (\n",
    "        list(replace_first([])) == []\n",
    "    )  # note:空列表有一个隐含的意思，它不等于None！！None意味着没有值，而空列表意味着零个值，这在语义上是不同的！\n",
    "\n"
   ]
  },
  {
   "cell_type": "code",
   "execution_count": 2,
   "metadata": {},
   "outputs": [
    {
     "data": {
      "text/html": [
       "<div>\n",
       "<style scoped>\n",
       "    .dataframe tbody tr th:only-of-type {\n",
       "        vertical-align: middle;\n",
       "    }\n",
       "\n",
       "    .dataframe tbody tr th {\n",
       "        vertical-align: top;\n",
       "    }\n",
       "\n",
       "    .dataframe thead th {\n",
       "        text-align: right;\n",
       "    }\n",
       "</style>\n",
       "<table border=\"1\" class=\"dataframe\">\n",
       "  <thead>\n",
       "    <tr style=\"text-align: right;\">\n",
       "      <th></th>\n",
       "      <th>n2</th>\n",
       "      <th>n2</th>\n",
       "    </tr>\n",
       "    <tr>\n",
       "      <th>n1</th>\n",
       "      <th></th>\n",
       "      <th></th>\n",
       "    </tr>\n",
       "  </thead>\n",
       "  <tbody>\n",
       "    <tr>\n",
       "      <th>a</th>\n",
       "      <td>1</td>\n",
       "      <td>5</td>\n",
       "    </tr>\n",
       "    <tr>\n",
       "      <th>b</th>\n",
       "      <td>2</td>\n",
       "      <td>6</td>\n",
       "    </tr>\n",
       "    <tr>\n",
       "      <th>c</th>\n",
       "      <td>3</td>\n",
       "      <td>7</td>\n",
       "    </tr>\n",
       "    <tr>\n",
       "      <th>d</th>\n",
       "      <td>4</td>\n",
       "      <td>8</td>\n",
       "    </tr>\n",
       "  </tbody>\n",
       "</table>\n",
       "</div>"
      ],
      "text/plain": [
       "    n2  n2\n",
       "n1        \n",
       "a    1   5\n",
       "b    2   6\n",
       "c    3   7\n",
       "d    4   8"
      ]
     },
     "execution_count": 2,
     "metadata": {},
     "output_type": "execute_result"
    }
   ],
   "source": [
    "a = pd.DataFrame({\"n1\": list(\"abcd\"), \"n2\": [1, 2, 3, 4]})\n",
    "b = pd.DataFrame({\"n1\": list(\"abcd\"), \"n2\": [5, 6, 7, 8]})\n",
    "c = pd.DataFrame({\"n1\": list(\"abcd\"), \"n2\": [4, 5, 1, 3]})\n",
    "a.set_index(\"n1\", inplace=True)\n",
    "b.set_index(\"n1\", inplace=True)\n",
    "pd.concat([a, b], axis=1)\n"
   ]
  },
  {
   "cell_type": "code",
   "execution_count": 1,
   "metadata": {},
   "outputs": [],
   "source": [
    "def func(a, b):\n",
    "    global wait\n",
    "    if a > b:\n",
    "        wait = 1\n",
    "    else:\n",
    "        wait += 1\n",
    "    return wait\n"
   ]
  },
  {
   "cell_type": "code",
   "execution_count": 4,
   "metadata": {},
   "outputs": [
    {
     "data": {
      "text/plain": [
       "2"
      ]
     },
     "execution_count": 4,
     "metadata": {},
     "output_type": "execute_result"
    }
   ],
   "source": [
    "func(1, 3)\n"
   ]
  },
  {
   "cell_type": "code",
   "execution_count": 2,
   "metadata": {},
   "outputs": [],
   "source": [
    "def convert(filename):\n",
    "    tree = ET.parse(filename)\n",
    "    root = tree.getroot()\n",
    "    size = root.find(\"size\")\n",
    "    width = int(size.find(\"width\").text)\n",
    "    height = int(size.find(\"height\").text)\n",
    "    box = list()\n",
    "\n",
    "    for obj in root.findall(\"object\"):  # 树的层次遍历，只在一级层次中查找标签为object的结点\n",
    "        name = obj.find(\"name\").text\n",
    "        bndbox = obj.find(\"bndbox\")\n",
    "        xyxy = [bndbox.find(s).text for s in [\"xmin\", \"ymin\", \"xmax\", \"ymax\"]]\n",
    "        box.append((name, xyxy))\n",
    "\n",
    "    dtype = np.dtype([(\"name\", str), (\"xy\", float)])\n",
    "    annotation = np.array(box, dtype=dtype)\n",
    "    annotation[\"xy\"][:, [0, 1]] /= width\n",
    "    annotation[\"xy\"][:, [2, 3]] /= height\n",
    "\n",
    "    return annotation[\"name\"], annotation[\"xy\"]\n"
   ]
  },
  {
   "cell_type": "code",
   "execution_count": 3,
   "metadata": {},
   "outputs": [
    {
     "ename": "ValueError",
     "evalue": "setting an array element with a sequence.",
     "output_type": "error",
     "traceback": [
      "\u001b[1;31m---------------------------------------------------------------------------\u001b[0m",
      "\u001b[1;31mTypeError\u001b[0m                                 Traceback (most recent call last)",
      "\u001b[1;31mTypeError\u001b[0m: float() argument must be a string or a number, not 'list'",
      "\nThe above exception was the direct cause of the following exception:\n",
      "\u001b[1;31mValueError\u001b[0m                                Traceback (most recent call last)",
      "\u001b[1;32m~\\AppData\\Local\\Temp/ipykernel_8968/150262162.py\u001b[0m in \u001b[0;36m<module>\u001b[1;34m\u001b[0m\n\u001b[1;32m----> 1\u001b[1;33m \u001b[0mconvert\u001b[0m\u001b[1;33m(\u001b[0m\u001b[1;34mr\"D:\\WorkSpace\\Yolo-v3\\data\\Annotation\\DJI_0621_085.xml\"\u001b[0m\u001b[1;33m)\u001b[0m\u001b[1;33m\u001b[0m\u001b[1;33m\u001b[0m\u001b[0m\n\u001b[0m",
      "\u001b[1;32m~\\AppData\\Local\\Temp/ipykernel_8968/2936853700.py\u001b[0m in \u001b[0;36mconvert\u001b[1;34m(filename)\u001b[0m\n\u001b[0;32m     14\u001b[0m \u001b[1;33m\u001b[0m\u001b[0m\n\u001b[0;32m     15\u001b[0m     \u001b[0mdtype\u001b[0m \u001b[1;33m=\u001b[0m \u001b[0mnp\u001b[0m\u001b[1;33m.\u001b[0m\u001b[0mdtype\u001b[0m\u001b[1;33m(\u001b[0m\u001b[1;33m[\u001b[0m\u001b[1;33m(\u001b[0m\u001b[1;34m\"name\"\u001b[0m\u001b[1;33m,\u001b[0m \u001b[0mstr\u001b[0m\u001b[1;33m)\u001b[0m\u001b[1;33m,\u001b[0m \u001b[1;33m(\u001b[0m\u001b[1;34m\"xy\"\u001b[0m\u001b[1;33m,\u001b[0m \u001b[0mfloat\u001b[0m\u001b[1;33m)\u001b[0m\u001b[1;33m]\u001b[0m\u001b[1;33m)\u001b[0m\u001b[1;33m\u001b[0m\u001b[1;33m\u001b[0m\u001b[0m\n\u001b[1;32m---> 16\u001b[1;33m     \u001b[0mannotation\u001b[0m \u001b[1;33m=\u001b[0m \u001b[0mnp\u001b[0m\u001b[1;33m.\u001b[0m\u001b[0marray\u001b[0m\u001b[1;33m(\u001b[0m\u001b[0mbox\u001b[0m\u001b[1;33m,\u001b[0m \u001b[0mdtype\u001b[0m\u001b[1;33m=\u001b[0m\u001b[0mdtype\u001b[0m\u001b[1;33m)\u001b[0m\u001b[1;33m\u001b[0m\u001b[1;33m\u001b[0m\u001b[0m\n\u001b[0m\u001b[0;32m     17\u001b[0m     \u001b[0mannotation\u001b[0m\u001b[1;33m[\u001b[0m\u001b[1;34m\"xy\"\u001b[0m\u001b[1;33m]\u001b[0m\u001b[1;33m[\u001b[0m\u001b[1;33m:\u001b[0m\u001b[1;33m,\u001b[0m \u001b[1;33m[\u001b[0m\u001b[1;36m0\u001b[0m\u001b[1;33m,\u001b[0m \u001b[1;36m1\u001b[0m\u001b[1;33m]\u001b[0m\u001b[1;33m]\u001b[0m \u001b[1;33m/=\u001b[0m \u001b[0mwidth\u001b[0m\u001b[1;33m\u001b[0m\u001b[1;33m\u001b[0m\u001b[0m\n\u001b[0;32m     18\u001b[0m     \u001b[0mannotation\u001b[0m\u001b[1;33m[\u001b[0m\u001b[1;34m\"xy\"\u001b[0m\u001b[1;33m]\u001b[0m\u001b[1;33m[\u001b[0m\u001b[1;33m:\u001b[0m\u001b[1;33m,\u001b[0m \u001b[1;33m[\u001b[0m\u001b[1;36m2\u001b[0m\u001b[1;33m,\u001b[0m \u001b[1;36m3\u001b[0m\u001b[1;33m]\u001b[0m\u001b[1;33m]\u001b[0m \u001b[1;33m/=\u001b[0m \u001b[0mheight\u001b[0m\u001b[1;33m\u001b[0m\u001b[1;33m\u001b[0m\u001b[0m\n",
      "\u001b[1;31mValueError\u001b[0m: setting an array element with a sequence."
     ]
    }
   ],
   "source": [
    "convert(r\"D:\\WorkSpace\\Yolo-v3\\data\\Annotation\\DJI_0621_085.xml\")\n"
   ]
  },
  {
   "cell_type": "code",
   "execution_count": 2,
   "metadata": {},
   "outputs": [
    {
     "data": {
      "text/plain": [
       "array([[0.25769905, 0.43628569, 0.69494302],\n",
       "       [0.16734114, 0.61844052, 0.66288513]])"
      ]
     },
     "execution_count": 2,
     "metadata": {},
     "output_type": "execute_result"
    }
   ],
   "source": [
    "a = np.random.rand(2, 3, 3)\n",
    "a[:, :, 1]\n"
   ]
  },
  {
   "cell_type": "code",
   "execution_count": 4,
   "metadata": {},
   "outputs": [
    {
     "data": {
      "text/plain": [
       "(torch.Size([2, 4]), torch.Size([2, 4]))"
      ]
     },
     "execution_count": 4,
     "metadata": {},
     "output_type": "execute_result"
    }
   ],
   "source": [
    "batch_target = torch.tensor([[20, 30, 100, 200], [60, 50, 80, 90]])\n",
    "gt_box = torch.FloatTensor(\n",
    "    torch.cat((torch.zeros((batch_target.size(0), 2)), batch_target[:, 2:4]), 1)\n",
    ")\n",
    "gt_box.size(), gt_box.shape\n"
   ]
  },
  {
   "cell_type": "code",
   "execution_count": 5,
   "metadata": {},
   "outputs": [
    {
     "data": {
      "text/plain": [
       "array([[ 33, 132,  62, 183,  20],\n",
       "       [463, 256, 508, 319,  20]])"
      ]
     },
     "execution_count": 5,
     "metadata": {},
     "output_type": "execute_result"
    }
   ],
   "source": [
    "line = \"d:\\WorkSpace\\yolo3-pytorch\\VOCdevkit/VOC2007/JPEGImages/DJI_0619_028.jpg 33,132,62,183,20 463,256,508,319,20\".split()\n",
    "box = np.array([list(map(int, box.split(\",\"))) for box in line[1:]])\n",
    "box\n"
   ]
  },
  {
   "cell_type": "code",
   "execution_count": 3,
   "metadata": {},
   "outputs": [
    {
     "data": {
      "text/plain": [
       "(2233790778128, 2233786376624, 2233757266544, 2233757266544)"
      ]
     },
     "execution_count": 3,
     "metadata": {},
     "output_type": "execute_result"
    }
   ],
   "source": [
    "a = np.array([[1, 2, 3], [4, 5, 6]])\n",
    "id(a[[True, False]]), id(a), id(a[0:1]), id(a[0:])\n"
   ]
  },
  {
   "cell_type": "code",
   "execution_count": 11,
   "metadata": {},
   "outputs": [
    {
     "name": "stdout",
     "output_type": "stream",
     "text": [
      "{'a': 1, 'b': 2, 'c': 3}\n",
      "{'a': 1, 'b': 2, 'c': 3}\n",
      "{1, 2, 3, 5}\n",
      "{1, 2, 3, 5}\n"
     ]
    }
   ],
   "source": [
    "dictionary = dict(a=1, b=2, c=3)\n",
    "dataset = {2, 3, 1, 5}\n",
    "print(dictionary)\n",
    "print(dictionary)\n",
    "print(dataset)\n",
    "print(dataset)\n"
   ]
  },
  {
   "cell_type": "code",
   "execution_count": 12,
   "metadata": {},
   "outputs": [
    {
     "data": {
      "text/plain": [
       "(\"['a', 'b', 'c']\", [])"
      ]
     },
     "execution_count": 12,
     "metadata": {},
     "output_type": "execute_result"
    }
   ],
   "source": [
    "x = [\"a\", \"b\", \"c\"]\n",
    "str(x), x[2:1]\n"
   ]
  },
  {
   "cell_type": "code",
   "execution_count": 16,
   "metadata": {},
   "outputs": [
    {
     "name": "stderr",
     "output_type": "stream",
     "text": [
      "current process d: 100%|██████████| 4/4 [00:00<00:00, 267.42it/s, a=1, b=2]\n"
     ]
    }
   ],
   "source": [
    "file = open(\"./log.txt\", \"w\")\n",
    "pbar = tqdm([\"a\", \"b\", \"c\", \"d\"])\n",
    "for bar in pbar:\n",
    "    pbar.set_description(f\"current process {bar}\")\n",
    "    pbar.set_postfix({\"a\": 1, \"b\": 2})\n",
    "    pbar.write(\"finish\", file)\n",
    "file.close()\n"
   ]
  },
  {
   "cell_type": "code",
   "execution_count": 9,
   "metadata": {},
   "outputs": [
    {
     "name": "stderr",
     "output_type": "stream",
     "text": [
      "100%|██████████| 10/10 [00:00<00:00, 10027.02it/s('batch', 'abc')]\n"
     ]
    }
   ],
   "source": [
    "with tqdm(total=10, postfix=(\"batch\", \"abc\")) as t:\n",
    "    for i in range(10):\n",
    "        # t.set_postfix({\"a\":1, \"b\":2})\n",
    "        t.update()\n"
   ]
  },
  {
   "cell_type": "code",
   "execution_count": null,
   "metadata": {},
   "outputs": [],
   "source": [
    "parser = argparse.ArgumentParser()\n",
    "parser.add_argument()\n",
    "parser.parse_args()\n"
   ]
  },
  {
   "cell_type": "code",
   "execution_count": 4,
   "metadata": {},
   "outputs": [
    {
     "name": "stdout",
     "output_type": "stream",
     "text": [
      "0\n",
      "1\n",
      "2\n",
      "3\n",
      "4\n"
     ]
    }
   ],
   "source": [
    "a = [i for i in range(5)]\n",
    "for i in tqdm(a):\n",
    "    print(i)\n"
   ]
  },
  {
   "cell_type": "code",
   "execution_count": 2,
   "metadata": {},
   "outputs": [],
   "source": [
    "def func(*a, b=0):\n",
    "    for i in a:\n",
    "        print(i)\n",
    "    print(b)\n"
   ]
  },
  {
   "cell_type": "code",
   "execution_count": 4,
   "metadata": {},
   "outputs": [
    {
     "name": "stdout",
     "output_type": "stream",
     "text": [
      "1\n",
      "2\n",
      "3\n",
      "4\n",
      "1\n"
     ]
    }
   ],
   "source": [
    "func(1, 2, 3, 4, b=1)\n"
   ]
  }
 ],
 "metadata": {
  "interpreter": {
   "hash": "9cf8428aa180ee23632ed7df20f7a595edda7c60e668686876baf89d702ea1cf"
  },
  "kernelspec": {
   "display_name": "Python 3.8.13 ('pytorch')",
   "language": "python",
   "name": "python3"
  },
  "language_info": {
   "codemirror_mode": {
    "name": "ipython",
    "version": 3
   },
   "file_extension": ".py",
   "mimetype": "text/x-python",
   "name": "python",
   "nbconvert_exporter": "python",
   "pygments_lexer": "ipython3",
   "version": "3.8.13"
  },
  "orig_nbformat": 4
 },
 "nbformat": 4,
 "nbformat_minor": 2
}
