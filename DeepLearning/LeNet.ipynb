{
 "cells": [
  {
   "cell_type": "code",
   "execution_count": null,
   "metadata": {},
   "outputs": [],
   "source": [
    "import torch\n",
    "import numpy as np\n",
    "from torchvision import datasets, transforms\n",
    "from torch import nn\n",
    "from torch.utils import data"
   ]
  },
  {
   "cell_type": "code",
   "execution_count": null,
   "metadata": {},
   "outputs": [],
   "source": [
    "class Reshape(nn.Module):\n",
    "    def forward(self, x):\n",
    "        return x.view(-1, 1, 224, 224)"
   ]
  },
  {
   "cell_type": "code",
   "execution_count": null,
   "metadata": {},
   "outputs": [],
   "source": [
    "def init_weight(m):\n",
    "    if type(m) in [nn.Linear, nn.Conv2d]:\n",
    "        nn.init.xavier_normal_(m.weight)"
   ]
  },
  {
   "cell_type": "code",
   "execution_count": null,
   "metadata": {},
   "outputs": [],
   "source": [
    "net = nn.Sequential(\n",
    "    Reshape(),\n",
    "    nn.Conv2d(1, 96, 11, 2),\n",
    "    nn.MaxPool2d(3, 2),\n",
    "    nn.Conv2d(96, 256, 5, padding=2),\n",
    "    nn.MaxPool2d(3, 2),\n",
    "    nn.Conv2d(256, 384, 3, padding=1),\n",
    "    nn.Conv2d(384, 384, 3, padding=1),\n",
    "    nn.Conv2d(384, 256, 3, padding=1),\n",
    "    nn.MaxPool2d(3, 2),\n",
    "    nn.Flatten(),\n",
    "    nn.Linear(256 * 12 * 12, 4096),\n",
    "    nn.ReLU(),\n",
    "    nn.Dropout(),\n",
    "    nn.Linear(4096, 4096),\n",
    "    nn.ReLU(),\n",
    "    nn.Dropout(),\n",
    "    nn.Linear(4096, 10)\n",
    ")"
   ]
  },
  {
   "cell_type": "code",
   "execution_count": null,
   "metadata": {},
   "outputs": [],
   "source": [
    "device = \"cuda\" if torch.cuda.is_available() else \"cpu\"\n",
    "net.apply(init_weight)\n",
    "net.to(device=device)"
   ]
  },
  {
   "cell_type": "code",
   "execution_count": null,
   "metadata": {},
   "outputs": [],
   "source": [
    "transform = transforms.Compose(\n",
    "    [transforms.ToTensor(), transforms.Normalize((0.5,), (0.5,))]\n",
    ")\n",
    "train = datasets.FashionMNIST(\"./data\", train=True, transform=transform)\n",
    "test = datasets.FashionMNIST(\"./data\", train=False, transform=transform)\n",
    "data = data.DataLoader(train, 4, shuffle=True, num_workers=4)\n",
    "optimizer = torch.optim.SGD(net.parameters(), lr=0.08)\n",
    "loss = nn.CrossEntropyLoss()\n",
    "epochs = 35"
   ]
  },
  {
   "cell_type": "code",
   "execution_count": null,
   "metadata": {},
   "outputs": [],
   "source": [
    "def trainer(data, optimizer, epochs, loss):\n",
    "    net.train()\n",
    "    J = np.empty(shape=0)\n",
    "    for _ in range(epochs):\n",
    "        costs = np.empty(shape=0)\n",
    "        for x, y in data:\n",
    "            optimizer.zero_grad()\n",
    "            l = loss(net(x.cuda()), y.cuda())\n",
    "            temp = l.clone()\n",
    "            temp = temp.to(device=\"cpu\")\n",
    "            costs = np.append(costs, temp.detach().numpy())\n",
    "            del temp\n",
    "            l.backward()\n",
    "            optimizer.step()\n",
    "        J = np.append(J, np.mean(costs))\n",
    "        del costs\n",
    "    return J"
   ]
  },
  {
   "cell_type": "code",
   "execution_count": null,
   "metadata": {},
   "outputs": [],
   "source": [
    "switch = True\n",
    "if switch:\n",
    "    trainer(data, optimizer, epochs, loss)\n",
    "    torch.save(net.state_dict(), \"./data/LeNet.pt\")"
   ]
  },
  {
   "cell_type": "code",
   "execution_count": null,
   "metadata": {},
   "outputs": [],
   "source": [
    "net.load_state_dict(torch.load(\"./data/LeNet.pt\"))\n",
    "net.to(device=\"cpu\")\n",
    "net.eval()\n",
    "score_test = list()\n",
    "score_train = list()\n",
    "for a, b in test:\n",
    "    score_test.append(net(a).argmax() == b)\n",
    "for c, d in train:\n",
    "    if len(score_train) < 10000:\n",
    "        score_train.append(net(c).argmax() == d)\n",
    "    else:\n",
    "        break\n",
    "accuracy_test = sum(score_test) / len(score_test)\n",
    "accuracy_train = sum(score_train) / len(score_train)"
   ]
  },
  {
   "cell_type": "code",
   "execution_count": null,
   "metadata": {},
   "outputs": [],
   "source": [
    "print(f\"acc_test:{accuracy_test}\")\n",
    "print(f\"acc_train:{accuracy_train}\")"
   ]
  }
 ],
 "metadata": {
  "kernelspec": {
   "display_name": "Python 3.8.13 ('pytorch')",
   "language": "python",
   "name": "python3"
  },
  "language_info": {
   "codemirror_mode": {
    "name": "ipython",
    "version": 3
   },
   "file_extension": ".py",
   "mimetype": "text/x-python",
   "name": "python",
   "nbconvert_exporter": "python",
   "pygments_lexer": "ipython3",
   "version": "3.8.13"
  },
  "orig_nbformat": 4,
  "vscode": {
   "interpreter": {
    "hash": "9cf8428aa180ee23632ed7df20f7a595edda7c60e668686876baf89d702ea1cf"
   }
  }
 },
 "nbformat": 4,
 "nbformat_minor": 2
}
