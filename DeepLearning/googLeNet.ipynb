{
 "cells": [
  {
   "cell_type": "code",
   "execution_count": 1,
   "metadata": {},
   "outputs": [],
   "source": [
    "import torch\n",
    "import torchsummary\n",
    "from torch import nn\n",
    "from torch.nn import functional as F"
   ]
  },
  {
   "cell_type": "code",
   "execution_count": 2,
   "metadata": {},
   "outputs": [],
   "source": [
    "class Inception(nn.Module):\n",
    "    def __init__(self, in_channel, c1, c2, c3, c4) -> None:\n",
    "        super().__init__()\n",
    "        self.branch1 = nn.Conv2d(in_channel, c1, 1)\n",
    "        self.branch2_1 = nn.Conv2d(in_channel, c2[0], 1)\n",
    "        self.branch2_2 = nn.Conv2d(c2[0], c2[1], 3, padding=1)\n",
    "        self.branch3_1 = nn.Conv2d(in_channel, c3[0], 1)\n",
    "        self.branch3_2 = nn.Conv2d(c3[0], c3[1], 5, padding=2)\n",
    "        self.branch4_1 = nn.MaxPool2d(3, stride=1, padding=1)\n",
    "        self.branch4_2 = nn.Conv2d(in_channel, c4, 1)\n",
    "    def forward(self, x):\n",
    "        b1 = F.relu(self.branch1(x))\n",
    "        b2 = F.relu(self.branch2_2(F.relu(self.branch2_1(x))))\n",
    "        b3 = F.relu(self.branch3_2(F.relu(self.branch3_1(x))))\n",
    "        b4 = F.relu(self.branch4_2(F.relu(self.branch4_1(x))))\n",
    "        return torch.cat([b1, b2, b3, b4], dim=1)"
   ]
  },
  {
   "cell_type": "code",
   "execution_count": 6,
   "metadata": {},
   "outputs": [
    {
     "name": "stdout",
     "output_type": "stream",
     "text": [
      "----------------------------------------------------------------\n",
      "        Layer (type)               Output Shape         Param #\n",
      "================================================================\n",
      "            Conv2d-1          [-1, 3, 224, 224]              12\n",
      "            Conv2d-2          [-1, 2, 224, 224]               8\n",
      "            Conv2d-3          [-1, 3, 224, 224]              57\n",
      "            Conv2d-4          [-1, 3, 224, 224]              12\n",
      "            Conv2d-5          [-1, 5, 224, 224]             380\n",
      "         MaxPool2d-6          [-1, 3, 224, 224]               0\n",
      "            Conv2d-7          [-1, 4, 224, 224]              16\n",
      "================================================================\n",
      "Total params: 485\n",
      "Trainable params: 485\n",
      "Non-trainable params: 0\n",
      "----------------------------------------------------------------\n",
      "Input size (MB): 0.57\n",
      "Forward/backward pass size (MB): 8.80\n",
      "Params size (MB): 0.00\n",
      "Estimated Total Size (MB): 9.38\n",
      "----------------------------------------------------------------\n"
     ]
    }
   ],
   "source": [
    "net = Inception(3, 3, (2, 3), (3, 5), 4)\n",
    "torchsummary.summary(net, (3, 224, 224), device=\"cpu\")"
   ]
  }
 ],
 "metadata": {
  "interpreter": {
   "hash": "c51d22a6e700603606d0eacc0072ee59cf10084b737a530df8cd1ae37f92a519"
  },
  "kernelspec": {
   "display_name": "Python 3.8.11 64-bit ('base': conda)",
   "name": "python3"
  },
  "language_info": {
   "codemirror_mode": {
    "name": "ipython",
    "version": 3
   },
   "file_extension": ".py",
   "mimetype": "text/x-python",
   "name": "python",
   "nbconvert_exporter": "python",
   "pygments_lexer": "ipython3",
   "version": "3.8.12"
  },
  "orig_nbformat": 4
 },
 "nbformat": 4,
 "nbformat_minor": 2
}
