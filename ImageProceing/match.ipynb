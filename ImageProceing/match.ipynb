{
 "cells": [
  {
   "cell_type": "code",
   "execution_count": 1,
   "metadata": {},
   "outputs": [],
   "source": [
    "import cv2\n",
    "import numpy as np"
   ]
  },
  {
   "cell_type": "code",
   "execution_count": 2,
   "metadata": {},
   "outputs": [
    {
     "data": {
      "text/plain": [
       "(2.0, 65.0, (1, 0), (2, 2))"
      ]
     },
     "execution_count": 2,
     "metadata": {},
     "output_type": "execute_result"
    }
   ],
   "source": [
    "a = np.array([[4, 2, 8], [7, 10, 55], [34, 27, 65]])\n",
    "cv2.minMaxLoc(a)"
   ]
  },
  {
   "cell_type": "code",
   "execution_count": 3,
   "metadata": {},
   "outputs": [],
   "source": [
    "src = cv2.imread(\"./profile.jpg\")\n",
    "# src = cv2.cvtColor(src, cv2.COLOR_BGR2GRAY)\n",
    "tar = cv2.imread(\"./IMG_6255.jpg\")"
   ]
  },
  {
   "cell_type": "code",
   "execution_count": 4,
   "metadata": {},
   "outputs": [],
   "source": [
    "result = cv2.matchTemplate(src, tar, method=cv2.TM_CCOEFF_NORMED)\n",
    "local = cv2.minMaxLoc(result)\n",
    "top_left = local[3]\n",
    "bottom_right = (top_left[0] + tar.shape[1], top_left[1] + tar.shape[0])\n",
    "img = cv2.rectangle(src,top_left, bottom_right, 255, 1)\n",
    "cv2.namedWindow(\"img\", cv2.WINDOW_NORMAL)\n",
    "cv2.imshow(\"img\", img)\n",
    "cv2.waitKey(0)\n",
    "cv2.destroyAllWindows()"
   ]
  }
 ],
 "metadata": {
  "interpreter": {
   "hash": "3860d6e0d0be45158f67b7497cd86fa5fc648422f0e508ab3756a6a3a2719315"
  },
  "kernelspec": {
   "display_name": "Python 3.8.12 64-bit ('pytorch': conda)",
   "language": "python",
   "name": "python3"
  },
  "language_info": {
   "codemirror_mode": {
    "name": "ipython",
    "version": 3
   },
   "file_extension": ".py",
   "mimetype": "text/x-python",
   "name": "python",
   "nbconvert_exporter": "python",
   "pygments_lexer": "ipython3",
   "version": "3.8.12"
  },
  "orig_nbformat": 4
 },
 "nbformat": 4,
 "nbformat_minor": 2
}
