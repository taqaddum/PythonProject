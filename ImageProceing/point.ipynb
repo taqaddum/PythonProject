{
 "cells": [
  {
   "cell_type": "code",
   "execution_count": 29,
   "metadata": {},
   "outputs": [],
   "source": [
    "from PIL import Image\n",
    "import numpy as np"
   ]
  },
  {
   "cell_type": "code",
   "execution_count": 31,
   "metadata": {},
   "outputs": [],
   "source": [
    "#============1.打开图片============\n",
    "img = Image.open(r'D:\\WorkSpace\\PythonProject\\ImageProceing\\IMG_6255.jpg')\n",
    "width, height = img.size#获取宽度和高度\n",
    "img_array = np.array(img)\n",
    "for x in range(0,height):\n",
    "    for y in range(0,width):\n",
    "        rgb = img_array[x,y]#获取一个像素块的rgb\n",
    "        r = rgb[0]\n",
    "        g = rgb[1]\n",
    "        b = rgb[2]\n",
    "        if b<60 and r>110:#判断规则\n",
    "            img_array[x, y] = (255, 255, 255)\n",
    "img1 = Image.fromarray(img_array)\n",
    "img1.show()\n",
    "img1.save(\"./profile.jpg\")"
   ]
  }
 ],
 "metadata": {
  "interpreter": {
   "hash": "3860d6e0d0be45158f67b7497cd86fa5fc648422f0e508ab3756a6a3a2719315"
  },
  "kernelspec": {
   "display_name": "Python 3.8.12 64-bit ('pytorch': conda)",
   "language": "python",
   "name": "python3"
  },
  "language_info": {
   "codemirror_mode": {
    "name": "ipython",
    "version": 3
   },
   "file_extension": ".py",
   "mimetype": "text/x-python",
   "name": "python",
   "nbconvert_exporter": "python",
   "pygments_lexer": "ipython3",
   "version": "3.8.12"
  },
  "orig_nbformat": 4
 },
 "nbformat": 4,
 "nbformat_minor": 2
}
