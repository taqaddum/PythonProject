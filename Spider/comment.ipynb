{
 "cells": [
  {
   "cell_type": "code",
   "execution_count": 1,
   "metadata": {},
   "outputs": [],
   "source": [
    "import requests\n",
    "import json\n",
    "import pandas as pd\n",
    "from Crypto.Cipher import AES\n",
    "from base64 import b64encode\n",
    "from pathlib import Path\n",
    "from faker import Faker"
   ]
  },
  {
   "cell_type": "code",
   "execution_count": 2,
   "metadata": {},
   "outputs": [
    {
     "data": {
      "text/plain": [
       "'\\ndev tool调试信息:\\n function b(a, b) {\\n        var c = CryptoJS.enc.Utf8.parse(b)\\n          , d = CryptoJS.enc.Utf8.parse(\"0102030405060708\")\\n          , e = CryptoJS.enc.Utf8.parse(a)\\n          , f = CryptoJS.AES.encrypt(\\n                e, c, {iv: d, mode: CryptoJS.mode.CBC}\\n                );\\n        return f.toString()\\n    }\\nfunction d(d, e, f, g) {\\n    var h = {}\\n        , i = a(16);\\n    return h.encText = b(d, g),\\n    h.encText = b(h.encText, i),\\n    h.encSecKey = c(i, e, f),\\n    h\\n}\\n\\nparams:\\n\"csrf_token\": \"\"  # 不影响加密\\n\"cursor\": \"-1\"  # 不影响加密\\n\"offset\": 0,  # 定位到第几条评论\\n\"orderType\": \"1\"  # 评论排序类型\\n\"pageNo\": \"1\"  # 第几页\\n\"pageSize\":40  # 每页显示多少条评论\\n\"rid\": \"A_PL_0_6883421967\"  # 不影响加密\\n\"threadId\": \"A_PL_0_6883421967\"  # 线程ID\\n'"
      ]
     },
     "execution_count": 2,
     "metadata": {},
     "output_type": "execute_result"
    }
   ],
   "source": [
    "\"\"\"\n",
    "dev tool调试信息:\n",
    " function b(a, b) {\n",
    "        var c = CryptoJS.enc.Utf8.parse(b)\n",
    "          , d = CryptoJS.enc.Utf8.parse(\"0102030405060708\")\n",
    "          , e = CryptoJS.enc.Utf8.parse(a)\n",
    "          , f = CryptoJS.AES.encrypt(\n",
    "                e, c, {iv: d, mode: CryptoJS.mode.CBC}\n",
    "                );\n",
    "        return f.toString()\n",
    "    }\n",
    "function d(d, e, f, g) {\n",
    "    var h = {}\n",
    "        , i = a(16);\n",
    "    return h.encText = b(d, g),\n",
    "    h.encText = b(h.encText, i),\n",
    "    h.encSecKey = c(i, e, f),\n",
    "    h\n",
    "}\n",
    "\n",
    "params:\n",
    "\"csrf_token\": \"\"  # 不影响加密\n",
    "\"cursor\": \"-1\"  # 不影响加密\n",
    "\"offset\": 0,  # 定位到第几条评论\n",
    "\"orderType\": \"1\"  # 评论排序类型\n",
    "\"pageNo\": \"1\"  # 第几页\n",
    "\"pageSize\":40  # 每页显示多少条评论\n",
    "\"rid\": \"A_PL_0_6883421967\"  # 不影响加密\n",
    "\"threadId\": \"A_PL_0_6883421967\"  # 线程ID\n",
    "\"\"\"\n"
   ]
  },
  {
   "cell_type": "code",
   "execution_count": 3,
   "metadata": {},
   "outputs": [],
   "source": [
    "def transfer16(text) -> bytes:\n",
    "    \"\"\"补全16位字符串，并转换为字节码\n",
    "\n",
    "    Parameters\n",
    "    ----------\n",
    "    text : str\n",
    "        输入字符串\n",
    "\n",
    "    Returns\n",
    "    -------\n",
    "    bytes\n",
    "        补全后的字节码\n",
    "    \"\"\"\n",
    "    pad = 16 - len(text) % 16\n",
    "    enctxt = text + chr(pad) * pad\n",
    "    return enctxt.encode(\"utf-8\")\n",
    "\n",
    "\n",
    "def enc_param(text, key):\n",
    "    \"\"\"AES加密，加密过程需将字符串转换为字节码\n",
    "\n",
    "    Parameters\n",
    "    ----------\n",
    "    text : str\n",
    "        输入字符串\n",
    "    key : str\n",
    "        输入密钥\n",
    "\n",
    "    Returns\n",
    "    -------\n",
    "    str\n",
    "        已加密字符串\n",
    "    \"\"\"    \n",
    "    iv = \"0102030405060708\".encode(\"utf-8\")\n",
    "    mode = AES.MODE_CBC\n",
    "    aes = AES.new(key.encode(\"utf-8\"), mode=mode, iv=iv)\n",
    "    string = transfer16(text)\n",
    "    cipher = aes.encrypt(string)\n",
    "    return str(b64encode(cipher), \"utf-8\")\n",
    "\n",
    "\n",
    "def get_param(cipher, key1, key2):\n",
    "    \"\"\"获取两次加密后的字符串\n",
    "\n",
    "    Parameters\n",
    "    ----------\n",
    "    cipher : str\n",
    "        输入字符串\n",
    "    key1 : str\n",
    "        第一次加密所用密钥\n",
    "    key2 : str\n",
    "        第二次加密所用密钥\n",
    "\n",
    "    Returns\n",
    "    -------\n",
    "    str\n",
    "        已加密字符串\n",
    "    \"\"\"    \n",
    "    pw = enc_param(cipher, key1)\n",
    "    pw = enc_param(pw, key2)\n",
    "    return pw\n"
   ]
  },
  {
   "cell_type": "code",
   "execution_count": 4,
   "metadata": {},
   "outputs": [],
   "source": [
    "url = \"https://music.163.com/weapi/comment/resource/comments/get?csrf_token=\"\n",
    "fake = Faker()\n",
    "data = {\n",
    "    \"offset\": 0,  # 定位到第几条评论\n",
    "    \"orderType\": 1,  # 评论排序类型\n",
    "    \"pageNo\": 1,  # 页数\n",
    "    \"pageSize\": 20,  # 每页显示多少条评论，默认为20\n",
    "    \"threadId\": \"A_PL_0_6883421967\",  # 线程ID\n",
    "    \"total\": \"false\",\n",
    "}\n",
    "headers = {\n",
    "    \"user-agent\": fake.chrome(),\n",
    "    \"referer\": \"https://music.163.com/playlist?id=6883421967\",\n",
    "}\n",
    "var1 = \"010001\"\n",
    "var2 = \"00e0b509f6259df8642dbc35662901477df22677ec152b5ff68ace615bb7b725152b3ab17a876aea8a5aa76d2e417629ec4ee341f56135fccf695280104e0312ecbda92557c93870114af6c9d05c4f7f0c3685b7a46bee255932575cce10b424d813cfe4875d3e82047b97ddef52741d546b8e289dc6935b3ece0462db0a22b8e7\"\n",
    "var3 = \"0CoJUm6Qyw8W8jud\"\n",
    "i = \"WzpuV0v2CuoIy36f\"\n",
    "encSecKey = \"d9eff4f4d69c20aab714826f2f569b0d76ae58d98f3e4c11245e6e486f1f3cffa16ee32facf1583f7fc6258f2d6a471415802eb898f76be85dfd10c5a74b836ae83a1e592c20709b9371d89857c47d2f268bdedcab483706439fabcb8ea53a118750862341300d351da4383bfb835baa1e4d229729209c8920ab220afdd3f082\"\n"
   ]
  },
  {
   "cell_type": "code",
   "execution_count": 5,
   "metadata": {},
   "outputs": [
    {
     "name": "stdout",
     "output_type": "stream",
     "text": [
      "20条评论爬取成功\n",
      "40条评论爬取成功\n",
      "60条评论爬取成功\n",
      "80条评论爬取成功\n",
      "100条评论爬取成功\n",
      "120条评论爬取成功\n",
      "140条评论爬取成功\n",
      "160条评论爬取成功\n",
      "180条评论爬取成功\n",
      "200条评论爬取成功\n",
      "参数错误: 'data'\n",
      "over!!!\n"
     ]
    }
   ],
   "source": [
    "count = 0\n",
    "filename = Path(\"./comment.txt\")\n",
    "filename.unlink(missing_ok=True)\n",
    "file = filename.open(\"a\", encoding='utf-8')\n",
    "record = pd.DataFrame(columns=[\"nickname\", \"comment\"])\n",
    "\n",
    "while count < 400:\n",
    "    encText = get_param(json.dumps(data), var3, i)\n",
    "\n",
    "    try:\n",
    "        with requests.post(url, data={\"params\": encText, \"encSecKey\": encSecKey}) as resp:\n",
    "            text = resp.json()\n",
    "            for comment in text[\"data\"][\"comments\"]:\n",
    "                record.loc[count, \"nickname\"] = comment[\"user\"][\"nickname\"]\n",
    "                record.loc[count, \"comment\"] = comment[\"content\"]\n",
    "                print(comment[\"user\"][\"nickname\"].strip(), \":\", comment[\"content\"].strip(), '\\n', file=file)\n",
    "                count += 1\n",
    "    except KeyError as e:\n",
    "        print(\"参数错误:\", e)\n",
    "        break\n",
    "    else:\n",
    "        data[\"offset\"] = count\n",
    "        print(f\"{count}条评论爬取成功\")\n",
    "        data[\"pageNo\"] = data[\"pageNo\"] + 1\n",
    "file.close()\n",
    "print(\"over!!!\")"
   ]
  },
  {
   "cell_type": "code",
   "execution_count": 6,
   "metadata": {},
   "outputs": [],
   "source": [
    "with pd.ExcelWriter(\"./comments.xlsx\") as file:\n",
    "    record.to_excel(file, index=False)"
   ]
  }
 ],
 "metadata": {
  "kernelspec": {
   "display_name": "Python 3.9.12 ('base')",
   "language": "python",
   "name": "python3"
  },
  "language_info": {
   "codemirror_mode": {
    "name": "ipython",
    "version": 3
   },
   "file_extension": ".py",
   "mimetype": "text/x-python",
   "name": "python",
   "nbconvert_exporter": "python",
   "pygments_lexer": "ipython3",
   "version": "3.9.13"
  },
  "orig_nbformat": 4,
  "vscode": {
   "interpreter": {
    "hash": "af8259ad5c1c9c7a69bd6ea085234cf8fd3a6a37a71ca551828b314c4d89b0ad"
   }
  }
 },
 "nbformat": 4,
 "nbformat_minor": 2
}
