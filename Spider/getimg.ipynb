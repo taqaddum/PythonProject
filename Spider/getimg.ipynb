{
 "cells": [
  {
   "cell_type": "code",
   "execution_count": 1,
   "metadata": {},
   "outputs": [],
   "source": [
    "import requests\n",
    "import re\n",
    "import time\n",
    "from pathlib import Path\n",
    "from bs4 import BeautifulSoup"
   ]
  },
  {
   "cell_type": "code",
   "execution_count": 2,
   "metadata": {},
   "outputs": [],
   "source": [
    "url = \"https://www.umeitu.com\"\n",
    "headers = {\"user-agent\":\"Mozilla/5.0 (Windows NT 10.0; Win64; x64) AppleWebKit/537.36 (KHTML, like Gecko) Chrome/98.0.4758.102 Safari/537.36\"}\n",
    "with requests.get(url, headers=headers) as resp_main:\n",
    "    resp_main.encoding = \"utf-8\"\n",
    "    selecter = re.compile(r\"\\w+美女\")\n",
    "    pag_main = BeautifulSoup(resp_main.text)\n",
    "    pag_main_tag = pag_main.find(\"div\", attrs={\"class\":\"SpecBox indexSpec fc\"}).find_all(\"a\", title=selecter)"
   ]
  },
  {
   "cell_type": "code",
   "execution_count": 3,
   "metadata": {},
   "outputs": [
    {
     "name": "stdout",
     "output_type": "stream",
     "text": [
      "/bizhitupian/meinvbizhi/yangyanmeinv.htm\n",
      "/bizhitupian/meinvbizhi/qingchunmeinv.htm\n",
      "/bizhitupian/meinvbizhi/dongmammeinv.htm\n",
      "/bizhitupian/meinvbizhi/xingganmeinv.htm\n"
     ]
    }
   ],
   "source": [
    "for links in pag_main_tag:\n",
    "    print(links.get(\"href\"))"
   ]
  },
  {
   "cell_type": "code",
   "execution_count": 4,
   "metadata": {},
   "outputs": [],
   "source": [
    "link = pag_main_tag[0].get(\"href\")\n",
    "with requests.get(url+link, headers=headers) as resp_child:\n",
    "    resp_child.encoding = \"utf-8\"\n",
    "    pag_child = BeautifulSoup(resp_child.text)\n",
    "    imgul = pag_child.find(\"div\", attrs={\"class\":\"TypeList\"})"
   ]
  },
  {
   "cell_type": "code",
   "execution_count": 5,
   "metadata": {},
   "outputs": [
    {
     "name": "stdout",
     "output_type": "stream",
     "text": [
      "0:i2vohgqkcjx.jpg download finish!\n",
      "1:ku05vxfz4c3.jpg download finish!\n",
      "2:ypgx2xnnorw.jpg download finish!\n",
      "3:fupbzg4w122.jpg download finish!\n",
      "4:utqdkfyzhgw.jpg download finish!\n",
      "5:62d49686ba42a6655e880cd03e9123df.jpg download finish!\n",
      "6:6f174df77f99040542f182156b9be93a.jpg download finish!\n",
      "7:bf3b122b6e1ddd9777dadc6ca97b22e6.jpg download finish!\n",
      "8:9a9e6e9bfdc888a7e46bb1ceaca479f2.jpg download finish!\n",
      "9:c0b5b2ae3ee333403392c2fc6c668f4c.jpg download finish!\n",
      "10:4f7eee851c4b1f87238c726f870fdd39.jpg download finish!\n",
      "11:b232f81e5ed4c79beba2f56b53da03ad.jpg download finish!\n",
      "12:ac9eb2a981ed7ea989735c8f1eebdba4.jpg download finish!\n",
      "13:3f9846015e4adfa9d1fecaff4e6ef839.jpg download finish!\n",
      "14:c1362bfe99629afcf1aa6cf36788ee57.jpg download finish!\n",
      "15:1383df6982db26460d655d67c3dc4726.jpg download finish!\n",
      "16:d599ecd7cbf2500f4d3a4099a4ee1dbf.jpg download finish!\n",
      "17:708f787594b3bfc72a9c7fbaa4d1b140.jpg download finish!\n",
      "18:8bfce73192257be471126fc3a060d337.jpg download finish!\n",
      "19:815e1b0784d9b7d9a679fdbf22edd1d5.jpg download finish!\n",
      "20:d604feedec.jpg download finish!\n",
      "21:8b990b193b.jpg download finish!\n",
      "22:5bd4d25f9f.jpg download finish!\n",
      "23:32a5e2ad21.jpg download finish!\n",
      "24:24d5761593.jpg download finish!\n",
      "25:16d07dbc98.jpg download finish!\n",
      "26:f96646acbf.jpg download finish!\n",
      "27:e3e7c351d3.jpg download finish!\n",
      "28:02438160cb.jpg download finish!\n",
      "29:bd697c5762.jpg download finish!\n",
      "over!!! total:30\n"
     ]
    }
   ],
   "source": [
    "dir = Path(\"./img\")\n",
    "if not dir.exists():\n",
    "    dir.mkdir(parents=True)\n",
    "\n",
    "for i, imglink in enumerate(imgul(\"a\", class_=\"TypeBigPics\")):\n",
    "    with requests.get(url+imglink.get(\"href\"), headers=headers) as resp_img:\n",
    "        resp_img.encoding = \"utf-8\"\n",
    "        pag_img = BeautifulSoup(resp_img.text)\n",
    "        imgbody = pag_img.find(\"div\", class_=\"ImageBody\")\n",
    "        imgsrc = imgbody.find(\"img\").get(\"src\")\n",
    "        imgname = imgsrc.split(\"/\")[-1]\n",
    "        file = dir.joinpath(imgname)\n",
    "        img = requests.get(imgsrc, headers=headers)\n",
    "        file.write_bytes(img.content)\n",
    "        print(f\"{i}:{imgname} download finish!\")\n",
    "    time.sleep(1)\n",
    "print(f\"over!!! total:{i+1}\")"
   ]
  }
 ],
 "metadata": {
  "interpreter": {
   "hash": "37b255bb5dc0d995b91bd1b934b878e610a26475f52eafaf29fdb395fb105534"
  },
  "kernelspec": {
   "display_name": "Python 3.9.7 ('base')",
   "language": "python",
   "name": "python3"
  },
  "language_info": {
   "codemirror_mode": {
    "name": "ipython",
    "version": 3
   },
   "file_extension": ".py",
   "mimetype": "text/x-python",
   "name": "python",
   "nbconvert_exporter": "python",
   "pygments_lexer": "ipython3",
   "version": "3.9.7"
  },
  "orig_nbformat": 4
 },
 "nbformat": 4,
 "nbformat_minor": 2
}
