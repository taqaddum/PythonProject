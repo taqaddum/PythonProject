{
 "cells": [
  {
   "cell_type": "code",
   "execution_count": 1,
   "metadata": {},
   "outputs": [],
   "source": [
    "import requests\n",
    "from pathlib import Path"
   ]
  },
  {
   "cell_type": "code",
   "execution_count": 2,
   "metadata": {},
   "outputs": [],
   "source": [
    "url = \"https://www.pearvideo.com/video_1752847\"\n",
    "contId = url.split(\"_\")[1]\n",
    "videoStatus = (\n",
    "    f\"https://www.pearvideo.com/videoStatus.jsp?contId={contId}&mrd=0.9320257027456811\"\n",
    ")\n",
    "headers = {\n",
    "    \"user-agent\": \"Mozilla/5.0 (Windows NT 10.0; Win64; x64) AppleWebKit/537.36 (KHTML, like Gecko) Chrome/98.0.4758.102 Safari/537.36\",\n",
    "    \"referer\": \"https://www.pearvideo.com/video_1752847\",\n",
    "}\n",
    "resp = requests.get(videoStatus, headers=headers)\n",
    "resp.close()"
   ]
  },
  {
   "cell_type": "code",
   "execution_count": 7,
   "metadata": {},
   "outputs": [],
   "source": [
    "dic = resp.json()\n",
    "systemTime = dic[\"systemTime\"]\n",
    "srcUrl = dic[\"videoInfo\"][\"videos\"][\"srcUrl\"]\n",
    "srcUrl = srcUrl.replace(systemTime, f\"cont-{contId}\")"
   ]
  },
  {
   "cell_type": "code",
   "execution_count": 9,
   "metadata": {},
   "outputs": [],
   "source": [
    "file = Path(\"./video.mp4\")\n",
    "with requests.get(srcUrl) as resp1:\n",
    "    file.write_bytes(resp1.content)"
   ]
  }
 ],
 "metadata": {
  "interpreter": {
   "hash": "37b255bb5dc0d995b91bd1b934b878e610a26475f52eafaf29fdb395fb105534"
  },
  "kernelspec": {
   "display_name": "Python 3.9.7 ('base')",
   "language": "python",
   "name": "python3"
  },
  "language_info": {
   "codemirror_mode": {
    "name": "ipython",
    "version": 3
   },
   "file_extension": ".py",
   "mimetype": "text/x-python",
   "name": "python",
   "nbconvert_exporter": "python",
   "pygments_lexer": "ipython3",
   "version": "3.9.7"
  },
  "orig_nbformat": 4
 },
 "nbformat": 4,
 "nbformat_minor": 2
}
