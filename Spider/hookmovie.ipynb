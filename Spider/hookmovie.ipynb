{
 "cells": [
  {
   "cell_type": "code",
   "execution_count": 1,
   "metadata": {},
   "outputs": [],
   "source": [
    "import requests\n",
    "import pandas as pd\n",
    "import re"
   ]
  },
  {
   "cell_type": "code",
   "execution_count": 2,
   "metadata": {},
   "outputs": [],
   "source": [
    "page = 1\n",
    "domain = \"https://www.ygdy8.net/html/\"\n",
    "url = f\"https://www.ygdy8.net/html/gndy/china/list_4_{page}.html\"\n",
    "headers = {\n",
    "    \"user-agent\":\"Mozilla/5.0 (Windows NT 10.0; Win64; x64) AppleWebKit/537.36 (KHTML, like Gecko) Chrome/98.0.4758.102 Safari/537.36\"\n",
    "}\n",
    "resp = requests.get(url, headers=headers)\n",
    "resp.encoding = \"gbk\"\n",
    "pag_html = resp.text\n",
    "resp.close()"
   ]
  },
  {
   "cell_type": "code",
   "execution_count": 44,
   "metadata": {},
   "outputs": [],
   "source": [
    "pattern = r\"<tr>.*?<td.*?>.*?◎片 名(?P<movie>.*?)◎年 代\\s(?P<year>\\d+).*?◎片 长\\s(?P<time>\\d+)分钟.*?</td>\"\n",
    "r = re.compile(pattern=pattern, flags=re.S)\n",
    "iters = r.finditer(pag_html)\n",
    "movies = list()\n",
    "years = list()\n",
    "times = list()\n",
    "\n",
    "for it in iters:\n",
    "    inform = it.groupdict()\n",
    "    inform[\"movie\"] = inform[\"movie\"].strip()\n",
    "    movies.append(inform[\"movie\"])\n",
    "    years.append(inform[\"year\"])\n",
    "    times.append(inform[\"time\"])\n",
    "df = pd.DataFrame(data={\"movie\":movies, \"year\":years, \"time\":times})"
   ]
  }
 ],
 "metadata": {
  "interpreter": {
   "hash": "37b255bb5dc0d995b91bd1b934b878e610a26475f52eafaf29fdb395fb105534"
  },
  "kernelspec": {
   "display_name": "Python 3.9.7 ('base')",
   "language": "python",
   "name": "python3"
  },
  "language_info": {
   "codemirror_mode": {
    "name": "ipython",
    "version": 3
   },
   "file_extension": ".py",
   "mimetype": "text/x-python",
   "name": "python",
   "nbconvert_exporter": "python",
   "pygments_lexer": "ipython3",
   "version": "3.9.7"
  },
  "orig_nbformat": 4
 },
 "nbformat": 4,
 "nbformat_minor": 2
}
