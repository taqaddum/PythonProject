{
 "cells": [
  {
   "cell_type": "code",
   "execution_count": 1,
   "metadata": {},
   "outputs": [],
   "source": [
    "import requests\n",
    "from pathlib import Path"
   ]
  },
  {
   "cell_type": "code",
   "execution_count": 2,
   "metadata": {},
   "outputs": [
    {
     "name": "stdout",
     "output_type": "stream",
     "text": [
      "{'status': {'code': 0, 'msg': 'succ'}, 'data': [{'bookId': 3407001, 'bookName': '穿越诸天：我竟是万界大魔王', 'coverImg': 'https://cdn.static.17k.com/book/189x272/01/70/3407001.jpg-189x272?v=0', 'authorId': 67601309, 'authorPenName': '一口蛋黄苏', 'introduction': '灵气复苏时代，当所有人都在为了觉醒而挤破头皮的时候，苏牧却是通过系统，游走于各种异次元世界，获得外挂走在了时代最前方。\\n        复仇者联盟篇：化身奇异博士，拯救钢铁侠。收获：武器雷神之锤。\\n       斗破苍穹篇：化身萧炎，迎娶云韵。收获：异宝：异火。\\n        一人之下篇：化身张灵玉，决赛战胜张楚岚。收获：乱金柝挂。\\n         速度与激情篇：化身布莱恩，战胜唐老大，收获：飙车挂。', 'bookClass': {'id': 2, 'name': '男生'}, 'bookChannel': {'id': 3, 'name': '都市小说'}, 'bookCategory': {'id': 87, 'name': '都市异能'}, 'authLevel': {'id': 4, 'name': 'VIP作品'}, 'progress': 0, 'lastUpdateChapter': {'id': 45865371, 'name': '第二十八章 有佳人在笑', 'createTime': 1646129160000, 'updateTime': 1646129160000, 'isVIP': {'id': 0, 'name': '否'}, 'publishTime': 1646129160000}, 'status': {'id': 4, 'name': '正常'}, 'bookStatus': {'id': 1, 'name': '连载'}, 'isVIP': {'id': 0, 'name': '否'}, 'bookmarkChapterId': 0, 'bookmarkChapterName': '', 'bookmarkChapterVipFlag': 0, 'topFlag': 0, 'createTimeValue': 1645955009000, 'updateTimeValue': 1645955009000, 'topTimeValue': 0, 'bookupdateTimeValue': 1646129160000, 'recCode': 'null1646129421933845', 'type': 5}, {'bookId': 3348273, 'bookName': '武魂歌之江南风', 'coverImg': 'https://cdn.static.17k.com/book/189x272/73/82/3348273.jpg-189x272?v=0', 'authorId': 72502131, 'authorPenName': '不懂香烟', 'introduction': '魂殇\\n红尘浊世，崖外桃源\\n九霄云中，情丝谁牵\\n白衣皓雪处，落红颜\\n两相依，两心恋\\n怎奈何，天长地久阴阳断\\n江湖风雨，百千浮莲\\n恩怨情仇，岁岁年年\\n刀剑争鸣后，魂未散\\n月光冷，月影寒\\n一声叹，山盟海誓不复还\\n情难了，恨难填\\n却只剩，前路潇潇醉古兰\\n情未了，恨已残\\n斜阳下，踏歌杳杳几峰峦\\n一壶酒，一把剑，梦从前\\n一个人，一支歌，两缠绵', 'bookClass': {'id': 2, 'name': '男生'}, 'bookChannel': {'id': 24, 'name': '仙侠武侠'}, 'bookCategory': {'id': 2, 'name': '传统武侠'}, 'authLevel': {'id': 2, 'name': '专属作品'}, 'progress': 0, 'lastUpdateChapter': {'id': 45851561, 'name': '第76章 运势犹存 无戒救人', 'createTime': 1645953520000, 'updateTime': 1646045107000, 'isVIP': {'id': 0, 'name': '否'}, 'publishTime': 1646042454000}, 'status': {'id': 4, 'name': '正常'}, 'bookStatus': {'id': 1, 'name': '连载'}, 'isVIP': {'id': 0, 'name': '否'}, 'bookmarkChapterId': 0, 'bookmarkChapterName': '', 'bookmarkChapterVipFlag': 0, 'topFlag': 0, 'createTimeValue': 1645953825000, 'updateTimeValue': 1645953825000, 'topTimeValue': 0, 'bookupdateTimeValue': 1646045107000, 'recCode': 'null1646129421933845', 'type': 5}, {'bookId': 3400088, 'bookName': '破晓星魂', 'coverImg': 'https://cdn.static.17k.com/book/189x272/88/00/3400088.jpg-189x272?v=1643270327000', 'authorId': 86868317, 'authorPenName': '影月孤霜', 'introduction': '玄神天帝，遭遇偷袭，神元俱毁，身体俱灭，重生一世，天赋震撼，前世的敌人，今生绝不会放过，前世的仇恨，今生一一了结，重修一世，我依然是天。', 'bookClass': {'id': 2, 'name': '男生'}, 'bookChannel': {'id': 21, 'name': '玄幻奇幻'}, 'bookCategory': {'id': 8, 'name': '东方玄幻'}, 'authLevel': {'id': 4, 'name': 'VIP作品'}, 'progress': 0, 'lastUpdateChapter': {'id': 45861468, 'name': '第三十八章 翻山越岭只为救你', 'createTime': 1646062405000, 'updateTime': 1646062982000, 'isVIP': {'id': 0, 'name': '否'}, 'publishTime': 1646062405000}, 'status': {'id': 4, 'name': '正常'}, 'bookStatus': {'id': 1, 'name': '连载'}, 'isVIP': {'id': 0, 'name': '否'}, 'bookmarkChapterId': 0, 'bookmarkChapterName': '', 'bookmarkChapterVipFlag': 0, 'topFlag': 0, 'createTimeValue': 1645953820000, 'updateTimeValue': 1645953820000, 'topTimeValue': 0, 'bookupdateTimeValue': 1646062982000, 'recCode': 'null1646129421933845', 'type': 5}, {'bookId': 3406388, 'bookName': '山村药圣', 'coverImg': 'https://cdn.static.17k.com/book/189x272/88/63/3406388.jpg-189x272?v=1645697020000', 'authorId': 92667988, 'authorPenName': '头号媚精', 'introduction': '曾经他傻了五年，遭同村人排挤。\\n一朝清醒，他偶然获得医药传承。\\n难得一见的千年人参，他随手即可培育，从此开启了妖孽人生……\\n医术渡人，丹药惊世！\\n他玩转都市，最终却选择归隐乡野，成为全网膜拜的隐世药圣！', 'bookClass': {'id': 2, 'name': '男生'}, 'bookChannel': {'id': 3, 'name': '都市小说'}, 'bookCategory': {'id': 87, 'name': '都市异能'}, 'authLevel': {'id': 4, 'name': 'VIP作品'}, 'progress': 0, 'lastUpdateChapter': {'id': 45860226, 'name': '第五十章 原来是朱老板的儿子', 'createTime': 1646054928000, 'updateTime': 1646055986000, 'isVIP': {'id': 0, 'name': '否'}, 'publishTime': 1646054928000}, 'status': {'id': 4, 'name': '正常'}, 'bookStatus': {'id': 1, 'name': '连载'}, 'isVIP': {'id': 1, 'name': '是'}, 'bookmarkChapterId': 0, 'bookmarkChapterName': '', 'bookmarkChapterVipFlag': 0, 'topFlag': 0, 'createTimeValue': 1645953813000, 'updateTimeValue': 1645953813000, 'topTimeValue': 0, 'bookupdateTimeValue': 1646099668000, 'recCode': 'null1646129421933845', 'type': 5}, {'bookId': 3367713, 'bookName': '大国上医', 'coverImg': 'https://cdn.static.17k.com/book/189x272/13/77/3367713.jpg-189x272?v=1634107835000', 'authorId': 43399759, 'authorPenName': '方千金', 'introduction': '  我只是个医生，首富是我媳妇！\\n  出身中医世家的现代杰出青年医生方乐章，一觉醒来重生到了九十年代，成了九十年代的医学生方乐，还因为身患肺痨休学在家，成了人人嫌弃的肺痨鬼，庆幸的是有一位贤惠漂亮的媳妇照顾。\\n  重生九十年代，是迎着时代的浪潮成为首富呢还是借助前世的医疗经验当一位名医呢？方乐表示，还是先治好自己的肺痨再说，我就是个医生，首富的任务就交给媳妇了。\\t\\t\\t\\t\\t', 'bookClass': {'id': 2, 'name': '男生'}, 'bookChannel': {'id': 3, 'name': '都市小说'}, 'bookCategory': {'id': 3, 'name': '都市生活'}, 'authLevel': {'id': 4, 'name': 'VIP作品'}, 'progress': 0, 'lastUpdateChapter': {'id': 45858551, 'name': '第二百七十四章 承气白虎汤', 'createTime': 1646043579000, 'updateTime': 1646046967000, 'isVIP': {'id': 1, 'name': '是'}, 'publishTime': 1646046739000}, 'status': {'id': 4, 'name': '正常'}, 'bookStatus': {'id': 1, 'name': '连载'}, 'isVIP': {'id': 1, 'name': '是'}, 'bookmarkChapterId': 0, 'bookmarkChapterName': '', 'bookmarkChapterVipFlag': 0, 'topFlag': 0, 'createTimeValue': 1645950673000, 'updateTimeValue': 1645950679000, 'topTimeValue': 0, 'bookupdateTimeValue': 1646046967000, 'recCode': 'null1646129421933845', 'type': 5}, {'bookId': 3324680, 'bookName': '我在菜市口斩妖除魔那些年', 'coverImg': 'https://cdn.static.17k.com/book/189x272/80/46/3324680.jpg-189x272?v=1624413342000', 'authorId': 74843633, 'authorPenName': '大亨', 'introduction': '   \\u3000李长生一觉醒来，成为了大明王朝菜市口的一名刽子手！\\n\\n\\u3000\\u3000偏逢八百年大明朝妖魔横行，乾坤巨变之时，他发现自己斩杀死刑犯，可以获得各种的奖励！\\n\\n\\u3000\\u3000望气术，养气术，占卜术，替死术，纸人术，敛息术，换脸术，傀儡术，医术，机关术……\\n\\n\\u3000\\u3000上下几万年，漫漫仙道，无数魑魅魍魉一刀斩之，誓护我神州大地永世不衰！', 'bookClass': {'id': 2, 'name': '男生'}, 'bookChannel': {'id': 24, 'name': '仙侠武侠'}, 'bookCategory': {'id': 9, 'name': '古典仙侠'}, 'authLevel': {'id': 4, 'name': 'VIP作品'}, 'progress': 0, 'lastUpdateChapter': {'id': 45859066, 'name': '第812章 有眼无珠的家伙', 'createTime': 1646047481000, 'updateTime': 1646128939000, 'isVIP': {'id': 1, 'name': '是'}, 'publishTime': 1646128803000}, 'status': {'id': 4, 'name': '正常'}, 'bookStatus': {'id': 1, 'name': '连载'}, 'isVIP': {'id': 1, 'name': '是'}, 'bookmarkChapterId': 0, 'bookmarkChapterName': '', 'bookmarkChapterVipFlag': 0, 'topFlag': 0, 'createTimeValue': 1645950673000, 'updateTimeValue': 1645950678000, 'topTimeValue': 0, 'bookupdateTimeValue': 1646128939000, 'recCode': 'null1646129421933845', 'type': 5}, {'bookId': 3261253, 'bookName': '在逃生游戏中做朵黑心莲', 'coverImg': 'https://cdn.static.17k.com/book/189x272/53/12/3261253.jpg-189x272?v=1610616694000', 'authorId': 41851610, 'authorPenName': '望君惜', 'introduction': '精致美丽被男人们爱慕被女人们称作绿茶婊的白幼幼，突然有一天被逃生游戏捕捉，成功加入了逃生游戏中。\\n于是很快，逃生游戏里便出现了一个前期嘤嘤嘤的围在高手身边叫哥哥、后期让人叫爸爸的黑心莲！\\n', 'bookClass': {'id': 3, 'name': '女生'}, 'bookChannel': {'id': 18, 'name': '幻想言情'}, 'bookCategory': {'id': 172, 'name': '时空快穿'}, 'authLevel': {'id': 4, 'name': 'VIP作品'}, 'progress': 0, 'lastUpdateChapter': {'id': 45860162, 'name': '第八百五十九章 橘的一身膘', 'createTime': 1646054615000, 'updateTime': 1646058728000, 'isVIP': {'id': 1, 'name': '是'}, 'publishTime': 1646054691000}, 'status': {'id': 4, 'name': '正常'}, 'bookStatus': {'id': 1, 'name': '连载'}, 'isVIP': {'id': 1, 'name': '是'}, 'bookmarkChapterId': 0, 'bookmarkChapterName': '', 'bookmarkChapterVipFlag': 0, 'topFlag': 0, 'createTimeValue': 1645950673000, 'updateTimeValue': 1645950677000, 'topTimeValue': 0, 'bookupdateTimeValue': 1646058728000, 'recCode': 'null1646129421933845', 'type': 5}, {'bookId': 3381993, 'bookName': '穿越七零：我带千亿物资领着全家奔小康', 'coverImg': 'https://cdn.static.17k.com/book/189x272/93/19/3381993.jpg-189x272?v=1638447441000', 'authorId': 74882853, 'authorPenName': '卿菲墨染', 'introduction': '【年代团宠+物资空间+爽文+虐渣打脸】\\n前世，秦慕商被亲妈拖家带口的吸血，想要掏空她的公司。\\n\\u3000\\u3000还好她动作快来了个釜底抽薪，将家产全部换成了物资。\\n\\u3000\\u3000穿越前一刻，亲妈还在逼着她拿钱。\\n\\u3000\\u3000然而下一刻，她带着千亿物资穿越了，成了一个七十年代的团宠农家女。\\n\\u3000\\u3000家人对她不错，情况却属实有点惨。\\n\\u3000\\u3000奶奶高龄难撑事，爸爸是个药罐子，嫂子抛夫弃子改了嫁，四婶不想背外债分了家。\\n\\u3000\\u3000秦慕商表示问题不大，千亿物资空间在手，她还能让全家饿死？\\n\\u3000\\u3000在这个物资匮乏的年代，她的物资和空间就是百宝箱！\\n\\u3000\\u3000大米白面、粮油棉被、衣服鞋子、烟酒茶糖，应有尽有！\\n\\u3000\\u3000哪怕全家躺平了，一辈子都吃不完！\\n\\u3000\\u3000逛古董市场时，发现一直缠着她的这个腹黑知青，原来是个鉴宝高手，那就收了吧！\\n\\u3000\\u3000想着闲着也是闲着，那就去捡捡漏。什么？盲拍的货柜，居然是整整一货柜，货真价实的钻石珠宝。\\n\\u3000\\u3000经经商，只是想扶持一下快倒闭的国企，一不小心成了商业帝国的领头羊。\\n\\u3000\\u3000从此，一家人在她的带领下日子过的逍遥自在，风生水起。\\n\\u3000\\u3000在奔小康的路上一去不复返！', 'bookClass': {'id': 3, 'name': '女生'}, 'bookChannel': {'id': 17, 'name': '现代言情'}, 'bookCategory': {'id': 136, 'name': '年代种田'}, 'authLevel': {'id': 4, 'name': 'VIP作品'}, 'progress': 0, 'lastUpdateChapter': {'id': 45861182, 'name': '第一百九十二章 你是怎么认识贺世恩的？', 'createTime': 1646060611000, 'updateTime': 1646061963000, 'isVIP': {'id': 1, 'name': '是'}, 'publishTime': 1646060735000}, 'status': {'id': 4, 'name': '正常'}, 'bookStatus': {'id': 1, 'name': '连载'}, 'isVIP': {'id': 1, 'name': '是'}, 'bookmarkChapterId': 0, 'bookmarkChapterName': '', 'bookmarkChapterVipFlag': 0, 'topFlag': 0, 'createTimeValue': 1645950673000, 'updateTimeValue': 1645950676000, 'topTimeValue': 0, 'bookupdateTimeValue': 1646100071000, 'recCode': 'null1646129421933845', 'type': 5}, {'bookId': 3376335, 'bookName': '骷髅领主的成长日记', 'coverImg': 'https://cdn.static.17k.com/book/189x272/35/63/3376335.jpg-189x272?v=1639375843000', 'authorId': 85198946, 'authorPenName': '大虾也是侠', 'introduction': '意外穿越异世，别人成仙成佛，惨点的也是废物逆袭。\\n可是到了古二蛋这里，他却发现自己一点盼头也没有。\\n因为这家伙成为了一个骷髅兵！还是一个没有脑袋的下等残躯战损版骷髅兵！\\n生活不易，骷髅叹气，望着自己一两肉都没有的身体，古二蛋决定要逆袭给所有人看！\\n“金手指系统！我要称王称霸！给我发威！”\\n“收到宿主期盼，本系统已按照期盼进行修改，正式进化为骷髅领主系统，你可以通过收集资源来强化麾下士兵啦！而且是没有上限的强化呦！”\\n“哦？这么厉害的吗！那么这种能力也能作用到我的身上对吧！”\\n“…………”\\n“对吧？”\\n“…………”\\n“对吧？！！！”', 'bookClass': {'id': 2, 'name': '男生'}, 'bookChannel': {'id': 21, 'name': '玄幻奇幻'}, 'bookCategory': {'id': 115, 'name': '异世争霸'}, 'authLevel': {'id': 4, 'name': 'VIP作品'}, 'progress': 0, 'lastUpdateChapter': {'id': 45857448, 'name': '第338章，四合一产物，白骨枪', 'createTime': 1646032479000, 'updateTime': 1646101013000, 'isVIP': {'id': 1, 'name': '是'}, 'publishTime': 1646090100000}, 'status': {'id': 4, 'name': '正常'}, 'bookStatus': {'id': 1, 'name': '连载'}, 'isVIP': {'id': 1, 'name': '是'}, 'bookmarkChapterId': 0, 'bookmarkChapterName': '', 'bookmarkChapterVipFlag': 0, 'topFlag': 0, 'createTimeValue': 1645950673000, 'updateTimeValue': 1645950675000, 'topTimeValue': 0, 'bookupdateTimeValue': 1646101013000, 'recCode': 'null1646129421933845', 'type': 5}, {'bookId': 3319328, 'bookName': '姐弟恋是一场豪赌', 'coverImg': 'https://cdn.static.17k.com/book/189x272/28/93/3319328.jpg-189x272?v=1623315133000', 'authorId': 76776134, 'authorPenName': '流彗', 'introduction': '相差12岁的姐弟恋会是怎样结局？？？\\n当你风华正茂，我已红颜老去。当你万众瞩目，不再需要庇护，就是我该隐没消失的时候。\\n她看着他成长、成熟、成功，明知他翅膀硬了的一天就会离开，却还是奉尽一切为他丰满羽翼……\\n本文三对CP： 柔情多金姐*萌帅忠犬弟\\n禁欲医生*傲娇小护士\\n“老干部”男友*叛逆刺头小丫头', 'bookClass': {'id': 3, 'name': '女生'}, 'bookChannel': {'id': 17, 'name': '现代言情'}, 'bookCategory': {'id': 26, 'name': '蜜爱甜宠'}, 'authLevel': {'id': 4, 'name': 'VIP作品'}, 'progress': 0, 'lastUpdateChapter': {'id': 45862388, 'name': '六百五十六章 缘来缘去，都结束了', 'createTime': 1646094242000, 'updateTime': 1646108619000, 'isVIP': {'id': 1, 'name': '是'}, 'publishTime': 1646096507000}, 'status': {'id': 4, 'name': '正常'}, 'bookStatus': {'id': 1, 'name': '连载'}, 'isVIP': {'id': 1, 'name': '是'}, 'bookmarkChapterId': 0, 'bookmarkChapterName': '', 'bookmarkChapterVipFlag': 0, 'topFlag': 0, 'createTimeValue': 1645950673000, 'updateTimeValue': 1645950674000, 'topTimeValue': 0, 'bookupdateTimeValue': 1646108619000, 'recCode': 'null1646129421933845', 'type': 5}], 'num': 20, 'curPage': 1, 'totalNum': 10, 'totalPage': 1, 'hasMore': 0, 'time': 1646129421000}\n"
     ]
    }
   ],
   "source": [
    "file = Path(\"./output.txt\")\n",
    "url = \"https://passport.17k.com/ck/user/login\"\n",
    "session = requests.session()\n",
    "data = {\n",
    "    \"loginName\": \"18785121180\",\n",
    "    \"password\": \"vxsjq6682\",\n",
    "}\n",
    "headers = {\n",
    "    \"user-agent\": \"Mozilla/5.0 (Windows NT 10.0; Win64; x64) AppleWebKit/537.36 (KHTML, like Gecko) Chrome/98.0.4758.102 Safari/537.36\"\n",
    "}\n",
    "param = {\"page\": 1, \"appkey\": 2406394919}\n",
    "with session.post(url, headers=headers, data=data) as resp, session.get(\n",
    "    \"https://user.17k.com/ck/author/shelf\", headers=headers, params=param\n",
    ") as resp1, file.open(\"w\") as f:\n",
    "    print(resp.text, file=f)\n",
    "    print(resp1.json())"
   ]
  }
 ],
 "metadata": {
  "interpreter": {
   "hash": "37b255bb5dc0d995b91bd1b934b878e610a26475f52eafaf29fdb395fb105534"
  },
  "kernelspec": {
   "display_name": "Python 3.9.7 ('base')",
   "language": "python",
   "name": "python3"
  },
  "language_info": {
   "codemirror_mode": {
    "name": "ipython",
    "version": 3
   },
   "file_extension": ".py",
   "mimetype": "text/x-python",
   "name": "python",
   "nbconvert_exporter": "python",
   "pygments_lexer": "ipython3",
   "version": "3.9.7"
  },
  "orig_nbformat": 4
 },
 "nbformat": 4,
 "nbformat_minor": 2
}
