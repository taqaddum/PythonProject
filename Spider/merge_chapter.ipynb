{
 "cells": [
  {
   "cell_type": "code",
   "execution_count": 1,
   "metadata": {},
   "outputs": [],
   "source": [
    "import re\n",
    "from pathlib import Path"
   ]
  },
  {
   "cell_type": "code",
   "execution_count": 2,
   "metadata": {},
   "outputs": [],
   "source": [
    "dir = Path('./download/text/万象之王')\n",
    "filenames = [f.name for f in dir.glob('*.txt')]\n",
    "pattern = re.compile(r'.*?第?(?P<chapter>\\d+|[零一二两三四五六七八九十百千]+)章.*?txt', re.S)\n",
    "dic = dict()"
   ]
  },
  {
   "cell_type": "code",
   "execution_count": 3,
   "metadata": {},
   "outputs": [
    {
     "data": {
      "text/plain": [
       "set()"
      ]
     },
     "execution_count": 3,
     "metadata": {},
     "output_type": "execute_result"
    }
   ],
   "source": [
    "for name in filenames:\n",
    "    value = pattern.search(name)\n",
    "    if value is not None:\n",
    "        dic[name] = value.group('chapter')\n",
    "\n",
    "set(dic.keys()) ^ set(filenames)  # 异或计算集合差异"
   ]
  },
  {
   "cell_type": "code",
   "execution_count": 4,
   "metadata": {},
   "outputs": [],
   "source": [
    "def transfer(cn):\n",
    "    cndig = {'零':0, '一':1, '二':2, '三':3, '四':4, '五':5, '六':6, '七':7, '八':8, '九':9, '两':2}\n",
    "    cnunit = {'十':10, '百':100, '千':1000}\n",
    "    val = list()\n",
    "    unit = 0\n",
    "    for i in cn[::-1]:\n",
    "        if i in cnunit:\n",
    "            unit = cnunit.get(i)\n",
    "        if i in cndig:\n",
    "            dig = cndig.get(i)\n",
    "            if unit:\n",
    "                dig *= unit\n",
    "                unit = 0\n",
    "            val.append(dig)\n",
    "    if unit == 10:val.append(10)\n",
    "    return sum(val)"
   ]
  },
  {
   "cell_type": "code",
   "execution_count": 5,
   "metadata": {},
   "outputs": [],
   "source": [
    "for key, value in dic.items():\n",
    "    if not value.isdigit():\n",
    "        dic[key] = transfer(value)\n",
    "    else:\n",
    "        dic[key] = int(value)"
   ]
  },
  {
   "cell_type": "code",
   "execution_count": 6,
   "metadata": {},
   "outputs": [],
   "source": [
    "titles = sorted(dic.items(), key=lambda x:x[1])\n",
    "with open('./万象之王.txt', 'ab') as f:\n",
    "    for title in titles:\n",
    "        text = Path(f'./download/text/万象之王/{title[0]}').read_bytes()\n",
    "        f.write(text+'\\n\\n'.encode('gbk'))"
   ]
  }
 ],
 "metadata": {
  "interpreter": {
   "hash": "37b255bb5dc0d995b91bd1b934b878e610a26475f52eafaf29fdb395fb105534"
  },
  "kernelspec": {
   "display_name": "Python 3.9.7 ('base')",
   "language": "python",
   "name": "python3"
  },
  "language_info": {
   "codemirror_mode": {
    "name": "ipython",
    "version": 3
   },
   "file_extension": ".py",
   "mimetype": "text/x-python",
   "name": "python",
   "nbconvert_exporter": "python",
   "pygments_lexer": "ipython3",
   "version": "3.9.11"
  },
  "orig_nbformat": 4
 },
 "nbformat": 4,
 "nbformat_minor": 2
}
