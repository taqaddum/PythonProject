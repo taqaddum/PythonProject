{
 "cells": [
  {
   "cell_type": "code",
   "execution_count": 1,
   "metadata": {},
   "outputs": [],
   "source": [
    "import pandas as pd\n",
    "import numpy as np"
   ]
  },
  {
   "cell_type": "code",
   "execution_count": 2,
   "metadata": {},
   "outputs": [
    {
     "data": {
      "text/html": [
       "<div>\n",
       "<style scoped>\n",
       "    .dataframe tbody tr th:only-of-type {\n",
       "        vertical-align: middle;\n",
       "    }\n",
       "\n",
       "    .dataframe tbody tr th {\n",
       "        vertical-align: top;\n",
       "    }\n",
       "\n",
       "    .dataframe thead th {\n",
       "        text-align: right;\n",
       "    }\n",
       "</style>\n",
       "<table border=\"1\" class=\"dataframe\">\n",
       "  <thead>\n",
       "    <tr style=\"text-align: right;\">\n",
       "      <th></th>\n",
       "      <th>交易金额（财务）</th>\n",
       "      <th>支付金额（数据库）</th>\n",
       "      <th>支付金额（数据库）保留两位（计算方式 ceil(x * 100) / 100）</th>\n",
       "    </tr>\n",
       "  </thead>\n",
       "  <tbody>\n",
       "    <tr>\n",
       "      <th>0</th>\n",
       "      <td>118.53</td>\n",
       "      <td>118.528</td>\n",
       "      <td>118.53</td>\n",
       "    </tr>\n",
       "    <tr>\n",
       "      <th>1</th>\n",
       "      <td>374.88</td>\n",
       "      <td>374.876</td>\n",
       "      <td>374.88</td>\n",
       "    </tr>\n",
       "    <tr>\n",
       "      <th>2</th>\n",
       "      <td>239.87</td>\n",
       "      <td>305.080</td>\n",
       "      <td>305.08</td>\n",
       "    </tr>\n",
       "    <tr>\n",
       "      <th>3</th>\n",
       "      <td>305.08</td>\n",
       "      <td>239.870</td>\n",
       "      <td>239.87</td>\n",
       "    </tr>\n",
       "    <tr>\n",
       "      <th>4</th>\n",
       "      <td>335.03</td>\n",
       "      <td>335.030</td>\n",
       "      <td>335.03</td>\n",
       "    </tr>\n",
       "  </tbody>\n",
       "</table>\n",
       "</div>"
      ],
      "text/plain": [
       "   交易金额（财务）  支付金额（数据库）  支付金额（数据库）保留两位（计算方式 ceil(x * 100) / 100）\n",
       "0    118.53    118.528                                   118.53\n",
       "1    374.88    374.876                                   374.88\n",
       "2    239.87    305.080                                   305.08\n",
       "3    305.08    239.870                                   239.87\n",
       "4    335.03    335.030                                   335.03"
      ]
     },
     "execution_count": 2,
     "metadata": {},
     "output_type": "execute_result"
    }
   ],
   "source": [
    "df = pd.read_excel('./payamount.xls')\n",
    "df.head()"
   ]
  },
  {
   "cell_type": "code",
   "execution_count": 3,
   "metadata": {},
   "outputs": [],
   "source": [
    "a = df.iloc[:, 0].sort_values().reset_index(drop=True)\n",
    "b = df.iloc[:, 1].sort_values().reset_index(drop=True)\n",
    "c = df.iloc[:, 2].sort_values().reset_index(drop=True)\n",
    "result = pd.concat([a, b, c], axis=1)\n",
    "result['是否一致'] = np.where(a==c, '是','否')"
   ]
  },
  {
   "cell_type": "code",
   "execution_count": 7,
   "metadata": {},
   "outputs": [],
   "source": [
    "with pd.ExcelWriter('./金额对比.xls', engine='openpyxl') as writer:\n",
    "    result.to_excel(writer, index=False)"
   ]
  }
 ],
 "metadata": {
  "kernelspec": {
   "display_name": "base",
   "language": "python",
   "name": "python3"
  },
  "language_info": {
   "codemirror_mode": {
    "name": "ipython",
    "version": 3
   },
   "file_extension": ".py",
   "mimetype": "text/x-python",
   "name": "python",
   "nbconvert_exporter": "python",
   "pygments_lexer": "ipython3",
   "version": "3.10.8 | packaged by conda-forge | (main, Nov 22 2022, 08:16:33) [MSC v.1929 64 bit (AMD64)]"
  },
  "orig_nbformat": 4,
  "vscode": {
   "interpreter": {
    "hash": "37101ec27ccf92a314b44853e9764439c3325994725dd510a611df984a5abe68"
   }
  }
 },
 "nbformat": 4,
 "nbformat_minor": 2
}
