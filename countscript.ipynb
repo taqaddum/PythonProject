{
 "cells": [
  {
   "cell_type": "code",
   "execution_count": 1,
   "metadata": {},
   "outputs": [],
   "source": [
    "import pandas as pd"
   ]
  },
  {
   "cell_type": "code",
   "execution_count": 2,
   "metadata": {},
   "outputs": [],
   "source": [
    "df = pd.read_excel('模板指标.xlsx', usecols=[0, 1, 2])\n",
    "df1 = df[df['parent_item_uuid'] != 0]\n",
    "df1_group = df1.iloc[:, [0, 2]].groupby(df1['parent_item_uuid'])"
   ]
  },
  {
   "cell_type": "code",
   "execution_count": 3,
   "metadata": {},
   "outputs": [],
   "source": [
    "result = None\n",
    "for name, arr in df1_group:\n",
    "    arr['counter'] = f\"{name} > \" + arr.iloc[:, 0]\n",
    "    result: pd.DataFrame = pd.concat([result, arr])"
   ]
  },
  {
   "cell_type": "code",
   "execution_count": 4,
   "metadata": {},
   "outputs": [],
   "source": [
    "with pd.ExcelWriter('./test.xls', engine='openpyxl') as writer:\n",
    "    result.to_excel(writer)"
   ]
  }
 ],
 "metadata": {
  "kernelspec": {
   "display_name": "Python 3.10.8",
   "language": "python",
   "name": "python3"
  },
  "language_info": {
   "codemirror_mode": {
    "name": "ipython",
    "version": 3
   },
   "file_extension": ".py",
   "mimetype": "text/x-python",
   "name": "python",
   "nbconvert_exporter": "python",
   "pygments_lexer": "ipython3",
   "version": "3.10.8"
  },
  "orig_nbformat": 4,
  "vscode": {
   "interpreter": {
    "hash": "37101ec27ccf92a314b44853e9764439c3325994725dd510a611df984a5abe68"
   }
  }
 },
 "nbformat": 4,
 "nbformat_minor": 2
}
